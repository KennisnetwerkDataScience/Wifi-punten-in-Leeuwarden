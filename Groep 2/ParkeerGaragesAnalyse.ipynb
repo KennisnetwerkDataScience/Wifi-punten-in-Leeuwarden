{
 "cells": [
  {
   "cell_type": "markdown",
   "metadata": {},
   "source": [
    "## Parkeergarages - Data Analyse"
   ]
  },
  {
   "cell_type": "markdown",
   "metadata": {},
   "source": [
    "1. Laad en bekijk de data\n",
    "2. Plot de parkeergarages\n",
    "3. Laat zien dat transaction_id geen informatie bevat\n",
    "4. Groepeer de data per garage, per dag"
   ]
  },
  {
   "cell_type": "code",
   "execution_count": 65,
   "metadata": {},
   "outputs": [],
   "source": [
    "#%matplotlib inline\n",
    "import matplotlib.pyplot as plt\n",
    "import pandas as pd\n",
    "import numpy as np\n",
    "import folium #note: will not run in explorer"
   ]
  },
  {
   "cell_type": "code",
   "execution_count": 3,
   "metadata": {},
   "outputs": [],
   "source": [
    "path=''\n",
    "parking_transactions=pd.read_csv(path+'parkeerdata/leeuwarden_garage_parking_transactions.csv',sep=\";\")"
   ]
  },
  {
   "cell_type": "code",
   "execution_count": 4,
   "metadata": {},
   "outputs": [],
   "source": [
    "parking_locations=pd.read_csv(path+'parkeerdata/leeuwarden_garage_parking_garage_gps.csv',sep=\";\",decimal=\",\")"
   ]
  },
  {
   "cell_type": "code",
   "execution_count": 5,
   "metadata": {},
   "outputs": [
    {
     "name": "stdout",
     "output_type": "stream",
     "text": [
      "parking_transactions (3380160, 9)\n",
      "parking_locations (5, 5)\n"
     ]
    }
   ],
   "source": [
    "print(\"parking_transactions\",parking_transactions.shape)\n",
    "print(\"parking_locations\",parking_locations.shape)"
   ]
  },
  {
   "cell_type": "code",
   "execution_count": 6,
   "metadata": {},
   "outputs": [
    {
     "data": {
      "text/html": [
       "<div>\n",
       "<style scoped>\n",
       "    .dataframe tbody tr th:only-of-type {\n",
       "        vertical-align: middle;\n",
       "    }\n",
       "\n",
       "    .dataframe tbody tr th {\n",
       "        vertical-align: top;\n",
       "    }\n",
       "\n",
       "    .dataframe thead th {\n",
       "        text-align: right;\n",
       "    }\n",
       "</style>\n",
       "<table border=\"1\" class=\"dataframe\">\n",
       "  <thead>\n",
       "    <tr style=\"text-align: right;\">\n",
       "      <th></th>\n",
       "      <th>garage_id</th>\n",
       "      <th>card_type_id</th>\n",
       "      <th>transaction_id</th>\n",
       "      <th>start_parking_dt</th>\n",
       "      <th>end_parking_dt</th>\n",
       "      <th>pay_parking_dt</th>\n",
       "      <th>entry_station_cid</th>\n",
       "      <th>pay_station_cid</th>\n",
       "      <th>exit_station_cid</th>\n",
       "    </tr>\n",
       "  </thead>\n",
       "  <tbody>\n",
       "    <tr>\n",
       "      <th>0</th>\n",
       "      <td>36</td>\n",
       "      <td>220</td>\n",
       "      <td>2912536</td>\n",
       "      <td>1-1-2016 00:14</td>\n",
       "      <td>1-1-2016 06:17</td>\n",
       "      <td>1-1-2016 06:14</td>\n",
       "      <td>989.0</td>\n",
       "      <td>998.0</td>\n",
       "      <td>992.0</td>\n",
       "    </tr>\n",
       "    <tr>\n",
       "      <th>1</th>\n",
       "      <td>36</td>\n",
       "      <td>220</td>\n",
       "      <td>2912538</td>\n",
       "      <td>1-1-2016 00:27</td>\n",
       "      <td>1-1-2016 05:11</td>\n",
       "      <td>1-1-2016 05:09</td>\n",
       "      <td>989.0</td>\n",
       "      <td>998.0</td>\n",
       "      <td>992.0</td>\n",
       "    </tr>\n",
       "    <tr>\n",
       "      <th>2</th>\n",
       "      <td>36</td>\n",
       "      <td>220</td>\n",
       "      <td>2912537</td>\n",
       "      <td>1-1-2016 00:27</td>\n",
       "      <td>1-1-2016 05:56</td>\n",
       "      <td>1-1-2016 05:52</td>\n",
       "      <td>988.0</td>\n",
       "      <td>998.0</td>\n",
       "      <td>993.0</td>\n",
       "    </tr>\n",
       "    <tr>\n",
       "      <th>3</th>\n",
       "      <td>36</td>\n",
       "      <td>220</td>\n",
       "      <td>2912539</td>\n",
       "      <td>1-1-2016 00:28</td>\n",
       "      <td>1-1-2016 08:14</td>\n",
       "      <td>1-1-2016 08:06</td>\n",
       "      <td>989.0</td>\n",
       "      <td>998.0</td>\n",
       "      <td>992.0</td>\n",
       "    </tr>\n",
       "    <tr>\n",
       "      <th>4</th>\n",
       "      <td>36</td>\n",
       "      <td>220</td>\n",
       "      <td>2912540</td>\n",
       "      <td>1-1-2016 00:34</td>\n",
       "      <td>1-1-2016 04:09</td>\n",
       "      <td>1-1-2016 04:03</td>\n",
       "      <td>989.0</td>\n",
       "      <td>998.0</td>\n",
       "      <td>992.0</td>\n",
       "    </tr>\n",
       "  </tbody>\n",
       "</table>\n",
       "</div>"
      ],
      "text/plain": [
       "   garage_id  card_type_id  transaction_id start_parking_dt  end_parking_dt  \\\n",
       "0         36           220         2912536   1-1-2016 00:14  1-1-2016 06:17   \n",
       "1         36           220         2912538   1-1-2016 00:27  1-1-2016 05:11   \n",
       "2         36           220         2912537   1-1-2016 00:27  1-1-2016 05:56   \n",
       "3         36           220         2912539   1-1-2016 00:28  1-1-2016 08:14   \n",
       "4         36           220         2912540   1-1-2016 00:34  1-1-2016 04:09   \n",
       "\n",
       "   pay_parking_dt  entry_station_cid  pay_station_cid  exit_station_cid  \n",
       "0  1-1-2016 06:14              989.0            998.0             992.0  \n",
       "1  1-1-2016 05:09              989.0            998.0             992.0  \n",
       "2  1-1-2016 05:52              988.0            998.0             993.0  \n",
       "3  1-1-2016 08:06              989.0            998.0             992.0  \n",
       "4  1-1-2016 04:03              989.0            998.0             992.0  "
      ]
     },
     "execution_count": 6,
     "metadata": {},
     "output_type": "execute_result"
    }
   ],
   "source": [
    "parking_transactions.head()"
   ]
  },
  {
   "cell_type": "code",
   "execution_count": 7,
   "metadata": {},
   "outputs": [
    {
     "data": {
      "text/html": [
       "<div>\n",
       "<style scoped>\n",
       "    .dataframe tbody tr th:only-of-type {\n",
       "        vertical-align: middle;\n",
       "    }\n",
       "\n",
       "    .dataframe tbody tr th {\n",
       "        vertical-align: top;\n",
       "    }\n",
       "\n",
       "    .dataframe thead th {\n",
       "        text-align: right;\n",
       "    }\n",
       "</style>\n",
       "<table border=\"1\" class=\"dataframe\">\n",
       "  <thead>\n",
       "    <tr style=\"text-align: right;\">\n",
       "      <th></th>\n",
       "      <th>garage_id</th>\n",
       "      <th>garage_nm</th>\n",
       "      <th>capacity_value</th>\n",
       "      <th>latitude</th>\n",
       "      <th>longitude</th>\n",
       "    </tr>\n",
       "  </thead>\n",
       "  <tbody>\n",
       "    <tr>\n",
       "      <th>0</th>\n",
       "      <td>39</td>\n",
       "      <td>Oldehove</td>\n",
       "      <td>525</td>\n",
       "      <td>53.203227</td>\n",
       "      <td>5.789788</td>\n",
       "    </tr>\n",
       "    <tr>\n",
       "      <th>1</th>\n",
       "      <td>40</td>\n",
       "      <td>Oosterstraat</td>\n",
       "      <td>250</td>\n",
       "      <td>53.201402</td>\n",
       "      <td>5.801438</td>\n",
       "    </tr>\n",
       "    <tr>\n",
       "      <th>2</th>\n",
       "      <td>36</td>\n",
       "      <td>Zaailand</td>\n",
       "      <td>720</td>\n",
       "      <td>53.199224</td>\n",
       "      <td>5.795601</td>\n",
       "    </tr>\n",
       "    <tr>\n",
       "      <th>3</th>\n",
       "      <td>37</td>\n",
       "      <td>Klanderij</td>\n",
       "      <td>625</td>\n",
       "      <td>53.197996</td>\n",
       "      <td>5.798296</td>\n",
       "    </tr>\n",
       "    <tr>\n",
       "      <th>4</th>\n",
       "      <td>38</td>\n",
       "      <td>Hoeksterend</td>\n",
       "      <td>390</td>\n",
       "      <td>53.205792</td>\n",
       "      <td>5.802553</td>\n",
       "    </tr>\n",
       "  </tbody>\n",
       "</table>\n",
       "</div>"
      ],
      "text/plain": [
       "   garage_id     garage_nm  capacity_value   latitude  longitude\n",
       "0         39      Oldehove             525  53.203227   5.789788\n",
       "1         40  Oosterstraat             250  53.201402   5.801438\n",
       "2         36      Zaailand             720  53.199224   5.795601\n",
       "3         37     Klanderij             625  53.197996   5.798296\n",
       "4         38   Hoeksterend             390  53.205792   5.802553"
      ]
     },
     "execution_count": 7,
     "metadata": {},
     "output_type": "execute_result"
    }
   ],
   "source": [
    "parking_locations.head()"
   ]
  },
  {
   "cell_type": "markdown",
   "metadata": {},
   "source": [
    "## Plot de locaties van de parkeergarages"
   ]
  },
  {
   "cell_type": "code",
   "execution_count": 8,
   "metadata": {},
   "outputs": [
    {
     "data": {
      "text/html": [
       "<div style=\"width:100%;\"><div style=\"position:relative;width:100%;height:0;padding-bottom:60%;\"><iframe src=\"data:text/html;charset=utf-8;base64,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\" style=\"position:absolute;width:100%;height:100%;left:0;top:0;border:none !important;\" allowfullscreen webkitallowfullscreen mozallowfullscreen></iframe></div></div>"
      ],
      "text/plain": [
       "<folium.folium.Map at 0x1abb8059ba8>"
      ]
     },
     "execution_count": 8,
     "metadata": {},
     "output_type": "execute_result"
    }
   ],
   "source": [
    "folium_map = folium.Map(location=[np.mean(parking_locations.latitude[:]), np.mean(parking_locations.longitude[:])],\n",
    "                        zoom_start=14, width = 500, height = 300, control_scale = True)\n",
    "for i in range(len(parking_locations)):\n",
    "    folium.Marker([parking_locations.latitude[i], parking_locations.longitude[i]],\n",
    "                  popup = parking_locations.garage_nm[i], icon=folium.Icon(icon='car', prefix='fa')).add_to(folium_map)\n",
    "folium_map"
   ]
  },
  {
   "cell_type": "markdown",
   "metadata": {},
   "source": [
    "## Laat zien dat transaction_id geen informatie bevat"
   ]
  },
  {
   "cell_type": "markdown",
   "metadata": {},
   "source": [
    "We maken 1 dataset met alle transacties uit abonnementen (card_type_id = 221), en tellen de unieke transaction_id's voor een bepaalde garage (in dit geval, garage 40, die heeft de minste beschikbare plaatsen)"
   ]
  },
  {
   "cell_type": "code",
   "execution_count": 11,
   "metadata": {},
   "outputs": [
    {
     "name": "stdout",
     "output_type": "stream",
     "text": [
      "Aantal unieke transaction_id's:  91497\n",
      "Aantal regels in parking_abbo40:  91497\n"
     ]
    }
   ],
   "source": [
    "parking_abbo40 = parking_transactions.loc[np.logical_and(parking_transactions.card_type_id == 221,parking_transactions.garage_id == 40)]\n",
    "unique_abbo40 = set()\n",
    "for ID in parking_abbo40.transaction_id:\n",
    "    unique_abbo40.add(ID)\n",
    "print(\"Aantal unieke transaction_id's: \", len(unique_abbo40))\n",
    "print(\"Aantal regels in parking_abbo40: \", len(parking_abbo40))"
   ]
  },
  {
   "cell_type": "markdown",
   "metadata": {},
   "source": [
    "Deze waarden zijn hetzelfde, hetgeen bewijs geeft dat de mensen met een abonnement niet te achterhalen zijn. Voor de zekerheid doen we nu hetzelfde bij de losse parkeerkaarten:"
   ]
  },
  {
   "cell_type": "code",
   "execution_count": 12,
   "metadata": {},
   "outputs": [
    {
     "name": "stdout",
     "output_type": "stream",
     "text": [
      "Aantal unieke transaction_id's:  49143\n",
      "Aantal regels in parking_los40:  49143\n"
     ]
    }
   ],
   "source": [
    "parking_los40 = parking_transactions.loc[np.logical_and(parking_transactions.card_type_id == 220,parking_transactions.garage_id == 40)]\n",
    "unique_los40 = set()\n",
    "for ID in parking_los40.transaction_id:\n",
    "    unique_los40.add(ID)\n",
    "print(\"Aantal unieke transaction_id's: \", len(unique_los40))\n",
    "print(\"Aantal regels in parking_los40: \", len(parking_los40))"
   ]
  },
  {
   "cell_type": "markdown",
   "metadata": {},
   "source": [
    "We nemen aan dat dit voor alle parkeergarages geldt. In de volledige dataset zitten wel transaction_id's die vaker voorkomen, maar de id's die hetzelfde zijn zullen niet uit dezelfde parkeergarage komen.\n",
    "\n",
    "De transactie id's bevatten dus geen informatie."
   ]
  },
  {
   "cell_type": "markdown",
   "metadata": {},
   "source": [
    "## Data opschonen en opsplitsen per garage\n",
    "De data heeft wat nan waarden, wat inhoud dat er auto's in de garage parkeren die er nooit uitgaan. Of andersom.\n",
    "Die gaan we er uit halen, en de data opslaan per garage."
   ]
  },
  {
   "cell_type": "code",
   "execution_count": null,
   "metadata": {},
   "outputs": [],
   "source": [
    "transactions = parking_transactions[pd.notnull(parking_transactions.end_parking_dt)]\n",
    "transactions = transactions[pd.notnull(transactions.start_parking_dt)]\n",
    "\n",
    "transactions['visit_datetime'] = pd.to_datetime(transactions['start_parking_dt'], format='%d-%m-%Y %H:%M')\n",
    "transactions['visit_date'] = transactions['visit_datetime'].dt.date\n",
    "transactions['leave_datetime'] = pd.to_datetime(transactions['end_parking_dt'], format='%d-%m-%Y %H:%M')\n",
    "transactions['leave_date'] = transactions['leave_datetime'].dt.date"
   ]
  },
  {
   "cell_type": "code",
   "execution_count": null,
   "metadata": {},
   "outputs": [],
   "source": [
    "#Om het werk te verlichten pak ik 3 maanden:\n",
    "from_datetime=\"2017-03-01\"\n",
    "to_datetime=\"2017-06-01\"\n",
    "mask = (transactions['visit_date'] >= from_datetime) & (transactions['leave_date'] <= to_datetime)\n",
    "parking_data = transactions.loc[mask]\n"
   ]
  },
  {
   "cell_type": "code",
   "execution_count": null,
   "metadata": {},
   "outputs": [],
   "source": [
    "bezetting_in = parking_data[['visit_datetime', 'garage_id', 'card_type_id', 'transaction_id']]\n",
    "bezetting_in.columns = ['event_time', 'garage_id', 'card_type_id', 'transaction_id']\n",
    "#create column in_out representing the incremental change in the garage\n",
    "bezetting_in['in_out'] = 1\n",
    "\n",
    "bezetting_out = parking_data[['leave_datetime', 'garage_id', 'card_type_id', 'transaction_id']]\n",
    "bezetting_out.columns = ['event_time', 'garage_id', 'card_type_id', 'transaction_id']\n",
    "#create column in_out representing the incremental change in the garage\n",
    "bezetting_out['in_out'] = -1\n",
    "\n",
    "# Voeg de twee datasets samen, en sorteer op datum en tijd\n",
    "bezetting = pd.concat([bezetting_in, bezetting_out])"
   ]
  },
  {
   "cell_type": "markdown",
   "metadata": {},
   "source": [
    "## Groepeer de data per garage per dag"
   ]
  },
  {
   "cell_type": "code",
   "execution_count": 9,
   "metadata": {},
   "outputs": [
    {
     "data": {
      "text/html": [
       "<div>\n",
       "<style scoped>\n",
       "    .dataframe tbody tr th:only-of-type {\n",
       "        vertical-align: middle;\n",
       "    }\n",
       "\n",
       "    .dataframe tbody tr th {\n",
       "        vertical-align: top;\n",
       "    }\n",
       "\n",
       "    .dataframe thead th {\n",
       "        text-align: right;\n",
       "    }\n",
       "</style>\n",
       "<table border=\"1\" class=\"dataframe\">\n",
       "  <thead>\n",
       "    <tr style=\"text-align: right;\">\n",
       "      <th></th>\n",
       "      <th>garage_id</th>\n",
       "      <th>card_type_id</th>\n",
       "      <th>transaction_id</th>\n",
       "      <th>start_parking_dt</th>\n",
       "      <th>end_parking_dt</th>\n",
       "      <th>pay_parking_dt</th>\n",
       "      <th>entry_station_cid</th>\n",
       "      <th>pay_station_cid</th>\n",
       "      <th>exit_station_cid</th>\n",
       "      <th>visit_datetime</th>\n",
       "      <th>visit_date</th>\n",
       "    </tr>\n",
       "  </thead>\n",
       "  <tbody>\n",
       "    <tr>\n",
       "      <th>0</th>\n",
       "      <td>36</td>\n",
       "      <td>220</td>\n",
       "      <td>2912536</td>\n",
       "      <td>1-1-2016 00:14</td>\n",
       "      <td>1-1-2016 06:17</td>\n",
       "      <td>1-1-2016 06:14</td>\n",
       "      <td>989.0</td>\n",
       "      <td>998.0</td>\n",
       "      <td>992.0</td>\n",
       "      <td>2016-01-01 00:14:00</td>\n",
       "      <td>2016-01-01</td>\n",
       "    </tr>\n",
       "    <tr>\n",
       "      <th>1</th>\n",
       "      <td>36</td>\n",
       "      <td>220</td>\n",
       "      <td>2912538</td>\n",
       "      <td>1-1-2016 00:27</td>\n",
       "      <td>1-1-2016 05:11</td>\n",
       "      <td>1-1-2016 05:09</td>\n",
       "      <td>989.0</td>\n",
       "      <td>998.0</td>\n",
       "      <td>992.0</td>\n",
       "      <td>2016-01-01 00:27:00</td>\n",
       "      <td>2016-01-01</td>\n",
       "    </tr>\n",
       "    <tr>\n",
       "      <th>2</th>\n",
       "      <td>36</td>\n",
       "      <td>220</td>\n",
       "      <td>2912537</td>\n",
       "      <td>1-1-2016 00:27</td>\n",
       "      <td>1-1-2016 05:56</td>\n",
       "      <td>1-1-2016 05:52</td>\n",
       "      <td>988.0</td>\n",
       "      <td>998.0</td>\n",
       "      <td>993.0</td>\n",
       "      <td>2016-01-01 00:27:00</td>\n",
       "      <td>2016-01-01</td>\n",
       "    </tr>\n",
       "    <tr>\n",
       "      <th>3</th>\n",
       "      <td>36</td>\n",
       "      <td>220</td>\n",
       "      <td>2912539</td>\n",
       "      <td>1-1-2016 00:28</td>\n",
       "      <td>1-1-2016 08:14</td>\n",
       "      <td>1-1-2016 08:06</td>\n",
       "      <td>989.0</td>\n",
       "      <td>998.0</td>\n",
       "      <td>992.0</td>\n",
       "      <td>2016-01-01 00:28:00</td>\n",
       "      <td>2016-01-01</td>\n",
       "    </tr>\n",
       "    <tr>\n",
       "      <th>4</th>\n",
       "      <td>36</td>\n",
       "      <td>220</td>\n",
       "      <td>2912540</td>\n",
       "      <td>1-1-2016 00:34</td>\n",
       "      <td>1-1-2016 04:09</td>\n",
       "      <td>1-1-2016 04:03</td>\n",
       "      <td>989.0</td>\n",
       "      <td>998.0</td>\n",
       "      <td>992.0</td>\n",
       "      <td>2016-01-01 00:34:00</td>\n",
       "      <td>2016-01-01</td>\n",
       "    </tr>\n",
       "  </tbody>\n",
       "</table>\n",
       "</div>"
      ],
      "text/plain": [
       "   garage_id  card_type_id  transaction_id start_parking_dt  end_parking_dt  \\\n",
       "0         36           220         2912536   1-1-2016 00:14  1-1-2016 06:17   \n",
       "1         36           220         2912538   1-1-2016 00:27  1-1-2016 05:11   \n",
       "2         36           220         2912537   1-1-2016 00:27  1-1-2016 05:56   \n",
       "3         36           220         2912539   1-1-2016 00:28  1-1-2016 08:14   \n",
       "4         36           220         2912540   1-1-2016 00:34  1-1-2016 04:09   \n",
       "\n",
       "   pay_parking_dt  entry_station_cid  pay_station_cid  exit_station_cid  \\\n",
       "0  1-1-2016 06:14              989.0            998.0             992.0   \n",
       "1  1-1-2016 05:09              989.0            998.0             992.0   \n",
       "2  1-1-2016 05:52              988.0            998.0             993.0   \n",
       "3  1-1-2016 08:06              989.0            998.0             992.0   \n",
       "4  1-1-2016 04:03              989.0            998.0             992.0   \n",
       "\n",
       "       visit_datetime  visit_date  \n",
       "0 2016-01-01 00:14:00  2016-01-01  \n",
       "1 2016-01-01 00:27:00  2016-01-01  \n",
       "2 2016-01-01 00:27:00  2016-01-01  \n",
       "3 2016-01-01 00:28:00  2016-01-01  \n",
       "4 2016-01-01 00:34:00  2016-01-01  "
      ]
     },
     "execution_count": 9,
     "metadata": {},
     "output_type": "execute_result"
    }
   ],
   "source": [
    "#maak een datumkolom\n",
    "parking_transactions['visit_datetime'] = pd.to_datetime(parking_transactions['start_parking_dt'], format='%d-%m-%Y %H:%M')\n",
    "#'1-1-2016 00:14' \n",
    "parking_transactions['visit_date'] = parking_transactions['visit_datetime'].dt.date\n",
    "parking_transactions.head()"
   ]
  },
  {
   "cell_type": "code",
   "execution_count": 15,
   "metadata": {},
   "outputs": [
    {
     "name": "stdout",
     "output_type": "stream",
     "text": [
      "8256\n"
     ]
    },
    {
     "data": {
      "text/html": [
       "<div>\n",
       "<style scoped>\n",
       "    .dataframe tbody tr th:only-of-type {\n",
       "        vertical-align: middle;\n",
       "    }\n",
       "\n",
       "    .dataframe tbody tr th {\n",
       "        vertical-align: top;\n",
       "    }\n",
       "\n",
       "    .dataframe thead th {\n",
       "        text-align: right;\n",
       "    }\n",
       "</style>\n",
       "<table border=\"1\" class=\"dataframe\">\n",
       "  <thead>\n",
       "    <tr style=\"text-align: right;\">\n",
       "      <th></th>\n",
       "      <th>garage_id</th>\n",
       "      <th>visit_date</th>\n",
       "      <th>card_type_id</th>\n",
       "      <th>count_transactions</th>\n",
       "    </tr>\n",
       "  </thead>\n",
       "  <tbody>\n",
       "    <tr>\n",
       "      <th>8251</th>\n",
       "      <td>40</td>\n",
       "      <td>2018-04-28</td>\n",
       "      <td>221</td>\n",
       "      <td>1</td>\n",
       "    </tr>\n",
       "    <tr>\n",
       "      <th>8252</th>\n",
       "      <td>40</td>\n",
       "      <td>2018-04-29</td>\n",
       "      <td>220</td>\n",
       "      <td>39</td>\n",
       "    </tr>\n",
       "    <tr>\n",
       "      <th>8253</th>\n",
       "      <td>40</td>\n",
       "      <td>2018-04-29</td>\n",
       "      <td>221</td>\n",
       "      <td>1</td>\n",
       "    </tr>\n",
       "    <tr>\n",
       "      <th>8254</th>\n",
       "      <td>40</td>\n",
       "      <td>2018-04-30</td>\n",
       "      <td>220</td>\n",
       "      <td>26</td>\n",
       "    </tr>\n",
       "    <tr>\n",
       "      <th>8255</th>\n",
       "      <td>40</td>\n",
       "      <td>2018-04-30</td>\n",
       "      <td>221</td>\n",
       "      <td>166</td>\n",
       "    </tr>\n",
       "  </tbody>\n",
       "</table>\n",
       "</div>"
      ],
      "text/plain": [
       "      garage_id  visit_date  card_type_id  count_transactions\n",
       "8251         40  2018-04-28           221                   1\n",
       "8252         40  2018-04-29           220                  39\n",
       "8253         40  2018-04-29           221                   1\n",
       "8254         40  2018-04-30           220                  26\n",
       "8255         40  2018-04-30           221                 166"
      ]
     },
     "execution_count": 15,
     "metadata": {},
     "output_type": "execute_result"
    }
   ],
   "source": [
    "visitors_per_day = parking_transactions.groupby(['garage_id','visit_date', 'card_type_id'],as_index=False)['transaction_id'].count().rename(columns={'transaction_id':'count_transactions'})\n",
    "print(len(visitors_per_day))\n",
    "visitors_per_day.tail()"
   ]
  },
  {
   "cell_type": "code",
   "execution_count": 16,
   "metadata": {},
   "outputs": [],
   "source": [
    "visitors_per_day['visit_datetime'] = pd.to_datetime(visitors_per_day['visit_date'])\n",
    "#create masks for all 10 combinations\n",
    "mask36220 = ((visitors_per_day['garage_id']==36) & (visitors_per_day['card_type_id'] == 220))\n",
    "mask36221 = ((visitors_per_day['garage_id']==36) & (visitors_per_day['card_type_id'] == 221))\n",
    "mask37220 = ((visitors_per_day['garage_id']==37) & (visitors_per_day['card_type_id'] == 220))\n",
    "mask37221 = ((visitors_per_day['garage_id']==37) & (visitors_per_day['card_type_id'] == 221))\n",
    "mask38220 = ((visitors_per_day['garage_id']==38) & (visitors_per_day['card_type_id'] == 220))\n",
    "mask38221 = ((visitors_per_day['garage_id']==38) & (visitors_per_day['card_type_id'] == 221))\n",
    "mask39220 = ((visitors_per_day['garage_id']==39) & (visitors_per_day['card_type_id'] == 220))\n",
    "mask39221 = ((visitors_per_day['garage_id']==39) & (visitors_per_day['card_type_id'] == 221))\n",
    "mask40220 = ((visitors_per_day['garage_id']==40) & (visitors_per_day['card_type_id'] == 220))\n",
    "mask40221 = ((visitors_per_day['garage_id']==40) & (visitors_per_day['card_type_id'] == 221))"
   ]
  },
  {
   "cell_type": "code",
   "execution_count": null,
   "metadata": {},
   "outputs": [],
   "source": [
    "vpd36220 = visitors_per_day.loc[mask36220]\n",
    "vpd36221 = visitors_per_day.loc[mask36221]"
   ]
  },
  {
   "cell_type": "markdown",
   "metadata": {},
   "source": []
  },
  {
   "cell_type": "markdown",
   "metadata": {},
   "source": [
    "## Test plot voor event data tussen maart en juni 2017 voor één garage"
   ]
  },
  {
   "cell_type": "code",
   "execution_count": 23,
   "metadata": {},
   "outputs": [
    {
     "data": {
      "text/html": [
       "<div>\n",
       "<style scoped>\n",
       "    .dataframe tbody tr th:only-of-type {\n",
       "        vertical-align: middle;\n",
       "    }\n",
       "\n",
       "    .dataframe tbody tr th {\n",
       "        vertical-align: top;\n",
       "    }\n",
       "\n",
       "    .dataframe thead th {\n",
       "        text-align: right;\n",
       "    }\n",
       "</style>\n",
       "<table border=\"1\" class=\"dataframe\">\n",
       "  <thead>\n",
       "    <tr style=\"text-align: right;\">\n",
       "      <th></th>\n",
       "      <th>event_time</th>\n",
       "      <th>garage_id</th>\n",
       "      <th>card_type_id</th>\n",
       "      <th>transaction_id</th>\n",
       "      <th>in_out</th>\n",
       "    </tr>\n",
       "  </thead>\n",
       "  <tbody>\n",
       "    <tr>\n",
       "      <th>79833</th>\n",
       "      <td>2017-05-31 21:41:00</td>\n",
       "      <td>37</td>\n",
       "      <td>220</td>\n",
       "      <td>1918056</td>\n",
       "      <td>-1</td>\n",
       "    </tr>\n",
       "    <tr>\n",
       "      <th>79834</th>\n",
       "      <td>2017-05-31 22:02:00</td>\n",
       "      <td>37</td>\n",
       "      <td>220</td>\n",
       "      <td>1918027</td>\n",
       "      <td>-1</td>\n",
       "    </tr>\n",
       "    <tr>\n",
       "      <th>79835</th>\n",
       "      <td>2017-05-31 22:08:00</td>\n",
       "      <td>37</td>\n",
       "      <td>220</td>\n",
       "      <td>1917682</td>\n",
       "      <td>-1</td>\n",
       "    </tr>\n",
       "    <tr>\n",
       "      <th>79836</th>\n",
       "      <td>2017-05-31 22:08:00</td>\n",
       "      <td>37</td>\n",
       "      <td>220</td>\n",
       "      <td>1918061</td>\n",
       "      <td>-1</td>\n",
       "    </tr>\n",
       "    <tr>\n",
       "      <th>79837</th>\n",
       "      <td>2017-05-31 22:45:00</td>\n",
       "      <td>37</td>\n",
       "      <td>220</td>\n",
       "      <td>1918063</td>\n",
       "      <td>-1</td>\n",
       "    </tr>\n",
       "  </tbody>\n",
       "</table>\n",
       "</div>"
      ],
      "text/plain": [
       "                event_time  garage_id  card_type_id  transaction_id  in_out\n",
       "79833  2017-05-31 21:41:00         37           220         1918056      -1\n",
       "79834  2017-05-31 22:02:00         37           220         1918027      -1\n",
       "79835  2017-05-31 22:08:00         37           220         1917682      -1\n",
       "79836  2017-05-31 22:08:00         37           220         1918061      -1\n",
       "79837  2017-05-31 22:45:00         37           220         1918063      -1"
      ]
     },
     "execution_count": 23,
     "metadata": {},
     "output_type": "execute_result"
    }
   ],
   "source": [
    "garage_id = 37\n",
    "bezetting_sel_37 = pd.read_csv(\"../data/bezetting2_garage_\"+str(garage_id)+\".csv\",sep=\";\")\n",
    "del bezetting_sel_37['Unnamed: 0']\n",
    "bezetting_sel_37.tail()"
   ]
  },
  {
   "cell_type": "code",
   "execution_count": 24,
   "metadata": {},
   "outputs": [
    {
     "data": {
      "text/html": [
       "<div>\n",
       "<style scoped>\n",
       "    .dataframe tbody tr th:only-of-type {\n",
       "        vertical-align: middle;\n",
       "    }\n",
       "\n",
       "    .dataframe tbody tr th {\n",
       "        vertical-align: top;\n",
       "    }\n",
       "\n",
       "    .dataframe thead th {\n",
       "        text-align: right;\n",
       "    }\n",
       "</style>\n",
       "<table border=\"1\" class=\"dataframe\">\n",
       "  <thead>\n",
       "    <tr style=\"text-align: right;\">\n",
       "      <th></th>\n",
       "      <th>event_time</th>\n",
       "      <th>garage_id</th>\n",
       "      <th>card_type_id</th>\n",
       "      <th>transaction_id</th>\n",
       "      <th>in_out</th>\n",
       "      <th>total_occupied</th>\n",
       "    </tr>\n",
       "  </thead>\n",
       "  <tbody>\n",
       "    <tr>\n",
       "      <th>79833</th>\n",
       "      <td>2017-05-31 21:41:00</td>\n",
       "      <td>37</td>\n",
       "      <td>220</td>\n",
       "      <td>1918056</td>\n",
       "      <td>-1</td>\n",
       "      <td>4</td>\n",
       "    </tr>\n",
       "    <tr>\n",
       "      <th>79834</th>\n",
       "      <td>2017-05-31 22:02:00</td>\n",
       "      <td>37</td>\n",
       "      <td>220</td>\n",
       "      <td>1918027</td>\n",
       "      <td>-1</td>\n",
       "      <td>3</td>\n",
       "    </tr>\n",
       "    <tr>\n",
       "      <th>79835</th>\n",
       "      <td>2017-05-31 22:08:00</td>\n",
       "      <td>37</td>\n",
       "      <td>220</td>\n",
       "      <td>1917682</td>\n",
       "      <td>-1</td>\n",
       "      <td>2</td>\n",
       "    </tr>\n",
       "    <tr>\n",
       "      <th>79836</th>\n",
       "      <td>2017-05-31 22:08:00</td>\n",
       "      <td>37</td>\n",
       "      <td>220</td>\n",
       "      <td>1918061</td>\n",
       "      <td>-1</td>\n",
       "      <td>1</td>\n",
       "    </tr>\n",
       "    <tr>\n",
       "      <th>79837</th>\n",
       "      <td>2017-05-31 22:45:00</td>\n",
       "      <td>37</td>\n",
       "      <td>220</td>\n",
       "      <td>1918063</td>\n",
       "      <td>-1</td>\n",
       "      <td>0</td>\n",
       "    </tr>\n",
       "  </tbody>\n",
       "</table>\n",
       "</div>"
      ],
      "text/plain": [
       "               event_time  garage_id  card_type_id  transaction_id  in_out  \\\n",
       "79833 2017-05-31 21:41:00         37           220         1918056      -1   \n",
       "79834 2017-05-31 22:02:00         37           220         1918027      -1   \n",
       "79835 2017-05-31 22:08:00         37           220         1917682      -1   \n",
       "79836 2017-05-31 22:08:00         37           220         1918061      -1   \n",
       "79837 2017-05-31 22:45:00         37           220         1918063      -1   \n",
       "\n",
       "       total_occupied  \n",
       "79833               4  \n",
       "79834               3  \n",
       "79835               2  \n",
       "79836               1  \n",
       "79837               0  "
      ]
     },
     "execution_count": 24,
     "metadata": {},
     "output_type": "execute_result"
    }
   ],
   "source": [
    "bezetting_sel_37['total_occupied'] = bezetting_sel_37.in_out.cumsum()\n",
    "bezetting_sel_37['event_time'] = bezetting_sel_37['event_time'].astype('datetime64[ns]')\n",
    "max(bezetting_sel_37['total_occupied'])\n",
    "bezetting_sel_37.tail()"
   ]
  },
  {
   "cell_type": "code",
   "execution_count": 8,
   "metadata": {},
   "outputs": [
    {
     "data": {
      "text/plain": [
       "[<matplotlib.lines.Line2D at 0x212f111eda0>]"
      ]
     },
     "execution_count": 8,
     "metadata": {},
     "output_type": "execute_result"
    },
    {
     "data": {
      "image/png": "[encoded data removed]",
      "text/plain": [
       "<matplotlib.figure.Figure at 0x212f0e3a710>"
      ]
     },
     "metadata": {},
     "output_type": "display_data"
    }
   ],
   "source": [
    "import matplotlib.pyplot as plt\n",
    "# plot 'total_occupied' on 'event_time'.\n",
    "fig = plt.figure(figsize=(16, 4)) \n",
    "plt.plot(bezetting_sel_37.total_occupied)\n"
   ]
  },
  {
   "cell_type": "markdown",
   "metadata": {},
   "source": [
    "Data geplot per event, maar dit is natuurlijk niet lineair. Dus we gaan kijken of het tijdstip op de x-as kan."
   ]
  },
  {
   "cell_type": "code",
   "execution_count": 15,
   "metadata": {},
   "outputs": [
    {
     "data": {
      "text/plain": [
       "[<matplotlib.lines.Line2D at 0x212d73c3438>]"
      ]
     },
     "execution_count": 15,
     "metadata": {},
     "output_type": "execute_result"
    },
    {
     "data": {
      "image/png": "[encoded data removed]",
      "text/plain": [
       "<matplotlib.figure.Figure at 0x212f016acc0>"
      ]
     },
     "metadata": {},
     "output_type": "display_data"
    }
   ],
   "source": [
    "%matplotlib inline\n",
    "fig = plt.figure(figsize=(16, 4)) \n",
    "plt.plot('event_time','total_occupied', data = bezetting_sel_37)"
   ]
  },
  {
   "cell_type": "markdown",
   "metadata": {},
   "source": [
    "## Hetzelfde voor 7 dagen, parkeergarage 36"
   ]
  },
  {
   "cell_type": "code",
   "execution_count": 29,
   "metadata": {},
   "outputs": [
    {
     "data": {
      "text/html": [
       "<div>\n",
       "<style scoped>\n",
       "    .dataframe tbody tr th:only-of-type {\n",
       "        vertical-align: middle;\n",
       "    }\n",
       "\n",
       "    .dataframe tbody tr th {\n",
       "        vertical-align: top;\n",
       "    }\n",
       "\n",
       "    .dataframe thead th {\n",
       "        text-align: right;\n",
       "    }\n",
       "</style>\n",
       "<table border=\"1\" class=\"dataframe\">\n",
       "  <thead>\n",
       "    <tr style=\"text-align: right;\">\n",
       "      <th></th>\n",
       "      <th>event_time</th>\n",
       "      <th>garage_id</th>\n",
       "      <th>card_type_id</th>\n",
       "      <th>transaction_id</th>\n",
       "      <th>in_out</th>\n",
       "      <th>total_occupied</th>\n",
       "    </tr>\n",
       "  </thead>\n",
       "  <tbody>\n",
       "    <tr>\n",
       "      <th>341997</th>\n",
       "      <td>2017-05-31 23:47:00</td>\n",
       "      <td>36</td>\n",
       "      <td>220</td>\n",
       "      <td>3921854</td>\n",
       "      <td>-1</td>\n",
       "      <td>4</td>\n",
       "    </tr>\n",
       "    <tr>\n",
       "      <th>341998</th>\n",
       "      <td>2017-05-31 23:47:00</td>\n",
       "      <td>36</td>\n",
       "      <td>220</td>\n",
       "      <td>3921915</td>\n",
       "      <td>-1</td>\n",
       "      <td>3</td>\n",
       "    </tr>\n",
       "    <tr>\n",
       "      <th>341999</th>\n",
       "      <td>2017-05-31 23:48:00</td>\n",
       "      <td>36</td>\n",
       "      <td>220</td>\n",
       "      <td>3921893</td>\n",
       "      <td>-1</td>\n",
       "      <td>2</td>\n",
       "    </tr>\n",
       "    <tr>\n",
       "      <th>342000</th>\n",
       "      <td>2017-05-31 23:53:00</td>\n",
       "      <td>36</td>\n",
       "      <td>220</td>\n",
       "      <td>3921889</td>\n",
       "      <td>-1</td>\n",
       "      <td>1</td>\n",
       "    </tr>\n",
       "    <tr>\n",
       "      <th>342001</th>\n",
       "      <td>2017-06-01 00:00:00</td>\n",
       "      <td>36</td>\n",
       "      <td>220</td>\n",
       "      <td>3921846</td>\n",
       "      <td>-1</td>\n",
       "      <td>0</td>\n",
       "    </tr>\n",
       "  </tbody>\n",
       "</table>\n",
       "</div>"
      ],
      "text/plain": [
       "                 event_time  garage_id  card_type_id  transaction_id  in_out  \\\n",
       "341997  2017-05-31 23:47:00         36           220         3921854      -1   \n",
       "341998  2017-05-31 23:47:00         36           220         3921915      -1   \n",
       "341999  2017-05-31 23:48:00         36           220         3921893      -1   \n",
       "342000  2017-05-31 23:53:00         36           220         3921889      -1   \n",
       "342001  2017-06-01 00:00:00         36           220         3921846      -1   \n",
       "\n",
       "        total_occupied  \n",
       "341997               4  \n",
       "341998               3  \n",
       "341999               2  \n",
       "342000               1  \n",
       "342001               0  "
      ]
     },
     "execution_count": 29,
     "metadata": {},
     "output_type": "execute_result"
    }
   ],
   "source": [
    "garage_id = 36\n",
    "bezetting_sel_36 = pd.read_csv(\"../data/bezetting2_garage_\"+str(garage_id)+\".csv\",sep=\";\")\n",
    "del bezetting_sel_36['Unnamed: 0']\n",
    "bezetting_sel_36['total_occupied'] = bezetting_sel_36.in_out.cumsum()\n",
    "bezetting_sel_36.tail()"
   ]
  },
  {
   "cell_type": "code",
   "execution_count": 38,
   "metadata": {},
   "outputs": [
    {
     "data": {
      "text/html": [
       "<div>\n",
       "<style scoped>\n",
       "    .dataframe tbody tr th:only-of-type {\n",
       "        vertical-align: middle;\n",
       "    }\n",
       "\n",
       "    .dataframe tbody tr th {\n",
       "        vertical-align: top;\n",
       "    }\n",
       "\n",
       "    .dataframe thead th {\n",
       "        text-align: right;\n",
       "    }\n",
       "</style>\n",
       "<table border=\"1\" class=\"dataframe\">\n",
       "  <thead>\n",
       "    <tr style=\"text-align: right;\">\n",
       "      <th></th>\n",
       "      <th>event_time</th>\n",
       "      <th>garage_id</th>\n",
       "      <th>card_type_id</th>\n",
       "      <th>transaction_id</th>\n",
       "      <th>in_out</th>\n",
       "      <th>total_occupied</th>\n",
       "    </tr>\n",
       "  </thead>\n",
       "  <tbody>\n",
       "    <tr>\n",
       "      <th>143730</th>\n",
       "      <td>2017-04-07 23:57:00</td>\n",
       "      <td>36</td>\n",
       "      <td>220</td>\n",
       "      <td>3817581</td>\n",
       "      <td>-1</td>\n",
       "      <td>179</td>\n",
       "    </tr>\n",
       "    <tr>\n",
       "      <th>143731</th>\n",
       "      <td>2017-04-07 23:57:00</td>\n",
       "      <td>36</td>\n",
       "      <td>220</td>\n",
       "      <td>3817332</td>\n",
       "      <td>-1</td>\n",
       "      <td>178</td>\n",
       "    </tr>\n",
       "    <tr>\n",
       "      <th>143732</th>\n",
       "      <td>2017-04-07 23:58:00</td>\n",
       "      <td>36</td>\n",
       "      <td>220</td>\n",
       "      <td>3817525</td>\n",
       "      <td>-1</td>\n",
       "      <td>177</td>\n",
       "    </tr>\n",
       "    <tr>\n",
       "      <th>143733</th>\n",
       "      <td>2017-04-07 23:58:00</td>\n",
       "      <td>36</td>\n",
       "      <td>220</td>\n",
       "      <td>3817085</td>\n",
       "      <td>-1</td>\n",
       "      <td>176</td>\n",
       "    </tr>\n",
       "    <tr>\n",
       "      <th>143734</th>\n",
       "      <td>2017-04-07 23:59:00</td>\n",
       "      <td>36</td>\n",
       "      <td>220</td>\n",
       "      <td>3817719</td>\n",
       "      <td>1</td>\n",
       "      <td>177</td>\n",
       "    </tr>\n",
       "  </tbody>\n",
       "</table>\n",
       "</div>"
      ],
      "text/plain": [
       "                 event_time  garage_id  card_type_id  transaction_id  in_out  \\\n",
       "143730  2017-04-07 23:57:00         36           220         3817581      -1   \n",
       "143731  2017-04-07 23:57:00         36           220         3817332      -1   \n",
       "143732  2017-04-07 23:58:00         36           220         3817525      -1   \n",
       "143733  2017-04-07 23:58:00         36           220         3817085      -1   \n",
       "143734  2017-04-07 23:59:00         36           220         3817719       1   \n",
       "\n",
       "        total_occupied  \n",
       "143730             179  \n",
       "143731             178  \n",
       "143732             177  \n",
       "143733             176  \n",
       "143734             177  "
      ]
     },
     "execution_count": 38,
     "metadata": {},
     "output_type": "execute_result"
    }
   ],
   "source": [
    "# We willen 3 dagen gebruiken\n",
    "from_datetime=\"2017-04-01\"\n",
    "to_datetime=\"2017-04-08\"\n",
    "mask = (bezetting_sel_36['event_time'] >= from_datetime) & (bezetting_sel_36['event_time'] <= to_datetime)\n",
    "bezetting_sel1_36 = bezetting_sel_36.loc[mask]\n",
    "bezetting_sel1_36.tail()"
   ]
  },
  {
   "cell_type": "code",
   "execution_count": 39,
   "metadata": {},
   "outputs": [
    {
     "name": "stderr",
     "output_type": "stream",
     "text": [
      "C:\\Users\\verho534\\AppData\\Local\\Continuum\\anaconda3\\lib\\site-packages\\ipykernel_launcher.py:1: SettingWithCopyWarning: \n",
      "A value is trying to be set on a copy of a slice from a DataFrame.\n",
      "Try using .loc[row_indexer,col_indexer] = value instead\n",
      "\n",
      "See the caveats in the documentation: http://pandas.pydata.org/pandas-docs/stable/indexing.html#indexing-view-versus-copy\n",
      "  \"\"\"Entry point for launching an IPython kernel.\n"
     ]
    },
    {
     "data": {
      "text/html": [
       "<div>\n",
       "<style scoped>\n",
       "    .dataframe tbody tr th:only-of-type {\n",
       "        vertical-align: middle;\n",
       "    }\n",
       "\n",
       "    .dataframe tbody tr th {\n",
       "        vertical-align: top;\n",
       "    }\n",
       "\n",
       "    .dataframe thead th {\n",
       "        text-align: right;\n",
       "    }\n",
       "</style>\n",
       "<table border=\"1\" class=\"dataframe\">\n",
       "  <thead>\n",
       "    <tr style=\"text-align: right;\">\n",
       "      <th></th>\n",
       "      <th>event_time</th>\n",
       "      <th>garage_id</th>\n",
       "      <th>card_type_id</th>\n",
       "      <th>transaction_id</th>\n",
       "      <th>in_out</th>\n",
       "      <th>total_occupied</th>\n",
       "    </tr>\n",
       "  </thead>\n",
       "  <tbody>\n",
       "    <tr>\n",
       "      <th>143730</th>\n",
       "      <td>2017-04-07 23:57:00</td>\n",
       "      <td>36</td>\n",
       "      <td>220</td>\n",
       "      <td>3817581</td>\n",
       "      <td>-1</td>\n",
       "      <td>179</td>\n",
       "    </tr>\n",
       "    <tr>\n",
       "      <th>143731</th>\n",
       "      <td>2017-04-07 23:57:00</td>\n",
       "      <td>36</td>\n",
       "      <td>220</td>\n",
       "      <td>3817332</td>\n",
       "      <td>-1</td>\n",
       "      <td>178</td>\n",
       "    </tr>\n",
       "    <tr>\n",
       "      <th>143732</th>\n",
       "      <td>2017-04-07 23:58:00</td>\n",
       "      <td>36</td>\n",
       "      <td>220</td>\n",
       "      <td>3817525</td>\n",
       "      <td>-1</td>\n",
       "      <td>177</td>\n",
       "    </tr>\n",
       "    <tr>\n",
       "      <th>143733</th>\n",
       "      <td>2017-04-07 23:58:00</td>\n",
       "      <td>36</td>\n",
       "      <td>220</td>\n",
       "      <td>3817085</td>\n",
       "      <td>-1</td>\n",
       "      <td>176</td>\n",
       "    </tr>\n",
       "    <tr>\n",
       "      <th>143734</th>\n",
       "      <td>2017-04-07 23:59:00</td>\n",
       "      <td>36</td>\n",
       "      <td>220</td>\n",
       "      <td>3817719</td>\n",
       "      <td>1</td>\n",
       "      <td>177</td>\n",
       "    </tr>\n",
       "  </tbody>\n",
       "</table>\n",
       "</div>"
      ],
      "text/plain": [
       "                event_time  garage_id  card_type_id  transaction_id  in_out  \\\n",
       "143730 2017-04-07 23:57:00         36           220         3817581      -1   \n",
       "143731 2017-04-07 23:57:00         36           220         3817332      -1   \n",
       "143732 2017-04-07 23:58:00         36           220         3817525      -1   \n",
       "143733 2017-04-07 23:58:00         36           220         3817085      -1   \n",
       "143734 2017-04-07 23:59:00         36           220         3817719       1   \n",
       "\n",
       "        total_occupied  \n",
       "143730             179  \n",
       "143731             178  \n",
       "143732             177  \n",
       "143733             176  \n",
       "143734             177  "
      ]
     },
     "execution_count": 39,
     "metadata": {},
     "output_type": "execute_result"
    }
   ],
   "source": [
    "bezetting_sel1_36['event_time'] = bezetting_sel1_36['event_time'].astype('datetime64[ns]')\n",
    "max(bezetting_sel1_36['total_occupied'])\n",
    "bezetting_sel1_36.tail()"
   ]
  },
  {
   "cell_type": "code",
   "execution_count": 40,
   "metadata": {},
   "outputs": [
    {
     "data": {
      "text/plain": [
       "[<matplotlib.lines.Line2D at 0x213282e16d8>]"
      ]
     },
     "execution_count": 40,
     "metadata": {},
     "output_type": "execute_result"
    },
    {
     "data": {
      "image/png": "[encoded data removed]",
      "text/plain": [
       "<matplotlib.figure.Figure at 0x21328444c88>"
      ]
     },
     "metadata": {},
     "output_type": "display_data"
    }
   ],
   "source": [
    "%matplotlib inline\n",
    "fig = plt.figure(figsize=(16, 4)) \n",
    "plt.plot('event_time','total_occupied', data = bezetting_sel1_36)"
   ]
  },
  {
   "cell_type": "code",
   "execution_count": 61,
   "metadata": {},
   "outputs": [
    {
     "name": "stdout",
     "output_type": "stream",
     "text": [
      "2017-04-15\n"
     ]
    }
   ],
   "source": [
    "#to_datetime=\"2017-04-08\"\n",
    "from_datetime = to_datetime\n",
    "import datetime\n",
    "to_datetime = (datetime.datetime.strptime(to_datetime, \"%Y-%m-%d\") + datetime.timedelta(days=7))\n",
    "to_datetime = to_datetime.strftime(\"%Y-%m-%d\")\n",
    "print(to_datetime)"
   ]
  },
  {
   "cell_type": "code",
   "execution_count": 59,
   "metadata": {},
   "outputs": [
    {
     "data": {
      "text/plain": [
       "'15-04-2017'"
      ]
     },
     "execution_count": 59,
     "metadata": {},
     "output_type": "execute_result"
    }
   ],
   "source": []
  },
  {
   "cell_type": "code",
   "execution_count": 62,
   "metadata": {},
   "outputs": [
    {
     "data": {
      "text/html": [
       "<div>\n",
       "<style scoped>\n",
       "    .dataframe tbody tr th:only-of-type {\n",
       "        vertical-align: middle;\n",
       "    }\n",
       "\n",
       "    .dataframe tbody tr th {\n",
       "        vertical-align: top;\n",
       "    }\n",
       "\n",
       "    .dataframe thead th {\n",
       "        text-align: right;\n",
       "    }\n",
       "</style>\n",
       "<table border=\"1\" class=\"dataframe\">\n",
       "  <thead>\n",
       "    <tr style=\"text-align: right;\">\n",
       "      <th></th>\n",
       "      <th>event_time</th>\n",
       "      <th>garage_id</th>\n",
       "      <th>card_type_id</th>\n",
       "      <th>transaction_id</th>\n",
       "      <th>in_out</th>\n",
       "      <th>total_occupied</th>\n",
       "    </tr>\n",
       "  </thead>\n",
       "  <tbody>\n",
       "    <tr>\n",
       "      <th>167528</th>\n",
       "      <td>2017-04-14 23:58:00</td>\n",
       "      <td>36</td>\n",
       "      <td>220</td>\n",
       "      <td>3830826</td>\n",
       "      <td>-1</td>\n",
       "      <td>177</td>\n",
       "    </tr>\n",
       "    <tr>\n",
       "      <th>167529</th>\n",
       "      <td>2017-04-14 23:58:00</td>\n",
       "      <td>36</td>\n",
       "      <td>220</td>\n",
       "      <td>3830604</td>\n",
       "      <td>-1</td>\n",
       "      <td>176</td>\n",
       "    </tr>\n",
       "    <tr>\n",
       "      <th>167530</th>\n",
       "      <td>2017-04-14 23:58:00</td>\n",
       "      <td>36</td>\n",
       "      <td>220</td>\n",
       "      <td>3830848</td>\n",
       "      <td>-1</td>\n",
       "      <td>175</td>\n",
       "    </tr>\n",
       "    <tr>\n",
       "      <th>167531</th>\n",
       "      <td>2017-04-14 23:58:00</td>\n",
       "      <td>36</td>\n",
       "      <td>220</td>\n",
       "      <td>3830840</td>\n",
       "      <td>-1</td>\n",
       "      <td>174</td>\n",
       "    </tr>\n",
       "    <tr>\n",
       "      <th>167532</th>\n",
       "      <td>2017-04-14 23:59:00</td>\n",
       "      <td>36</td>\n",
       "      <td>220</td>\n",
       "      <td>3830789</td>\n",
       "      <td>-1</td>\n",
       "      <td>173</td>\n",
       "    </tr>\n",
       "  </tbody>\n",
       "</table>\n",
       "</div>"
      ],
      "text/plain": [
       "                 event_time  garage_id  card_type_id  transaction_id  in_out  \\\n",
       "167528  2017-04-14 23:58:00         36           220         3830826      -1   \n",
       "167529  2017-04-14 23:58:00         36           220         3830604      -1   \n",
       "167530  2017-04-14 23:58:00         36           220         3830848      -1   \n",
       "167531  2017-04-14 23:58:00         36           220         3830840      -1   \n",
       "167532  2017-04-14 23:59:00         36           220         3830789      -1   \n",
       "\n",
       "        total_occupied  \n",
       "167528             177  \n",
       "167529             176  \n",
       "167530             175  \n",
       "167531             174  \n",
       "167532             173  "
      ]
     },
     "execution_count": 62,
     "metadata": {},
     "output_type": "execute_result"
    }
   ],
   "source": [
    "mask = (bezetting_sel_36['event_time'] >= from_datetime) & (bezetting_sel_36['event_time'] <= to_datetime)\n",
    "bezetting_sel2_36 = bezetting_sel_36.loc[mask]\n",
    "bezetting_sel2_36.tail()"
   ]
  },
  {
   "cell_type": "code",
   "execution_count": 63,
   "metadata": {},
   "outputs": [
    {
     "name": "stdout",
     "output_type": "stream",
     "text": [
      "706\n"
     ]
    },
    {
     "name": "stderr",
     "output_type": "stream",
     "text": [
      "C:\\Users\\verho534\\AppData\\Local\\Continuum\\anaconda3\\lib\\site-packages\\ipykernel_launcher.py:1: SettingWithCopyWarning: \n",
      "A value is trying to be set on a copy of a slice from a DataFrame.\n",
      "Try using .loc[row_indexer,col_indexer] = value instead\n",
      "\n",
      "See the caveats in the documentation: http://pandas.pydata.org/pandas-docs/stable/indexing.html#indexing-view-versus-copy\n",
      "  \"\"\"Entry point for launching an IPython kernel.\n"
     ]
    },
    {
     "data": {
      "text/html": [
       "<div>\n",
       "<style scoped>\n",
       "    .dataframe tbody tr th:only-of-type {\n",
       "        vertical-align: middle;\n",
       "    }\n",
       "\n",
       "    .dataframe tbody tr th {\n",
       "        vertical-align: top;\n",
       "    }\n",
       "\n",
       "    .dataframe thead th {\n",
       "        text-align: right;\n",
       "    }\n",
       "</style>\n",
       "<table border=\"1\" class=\"dataframe\">\n",
       "  <thead>\n",
       "    <tr style=\"text-align: right;\">\n",
       "      <th></th>\n",
       "      <th>event_time</th>\n",
       "      <th>garage_id</th>\n",
       "      <th>card_type_id</th>\n",
       "      <th>transaction_id</th>\n",
       "      <th>in_out</th>\n",
       "      <th>total_occupied</th>\n",
       "    </tr>\n",
       "  </thead>\n",
       "  <tbody>\n",
       "    <tr>\n",
       "      <th>167528</th>\n",
       "      <td>2017-04-14 23:58:00</td>\n",
       "      <td>36</td>\n",
       "      <td>220</td>\n",
       "      <td>3830826</td>\n",
       "      <td>-1</td>\n",
       "      <td>177</td>\n",
       "    </tr>\n",
       "    <tr>\n",
       "      <th>167529</th>\n",
       "      <td>2017-04-14 23:58:00</td>\n",
       "      <td>36</td>\n",
       "      <td>220</td>\n",
       "      <td>3830604</td>\n",
       "      <td>-1</td>\n",
       "      <td>176</td>\n",
       "    </tr>\n",
       "    <tr>\n",
       "      <th>167530</th>\n",
       "      <td>2017-04-14 23:58:00</td>\n",
       "      <td>36</td>\n",
       "      <td>220</td>\n",
       "      <td>3830848</td>\n",
       "      <td>-1</td>\n",
       "      <td>175</td>\n",
       "    </tr>\n",
       "    <tr>\n",
       "      <th>167531</th>\n",
       "      <td>2017-04-14 23:58:00</td>\n",
       "      <td>36</td>\n",
       "      <td>220</td>\n",
       "      <td>3830840</td>\n",
       "      <td>-1</td>\n",
       "      <td>174</td>\n",
       "    </tr>\n",
       "    <tr>\n",
       "      <th>167532</th>\n",
       "      <td>2017-04-14 23:59:00</td>\n",
       "      <td>36</td>\n",
       "      <td>220</td>\n",
       "      <td>3830789</td>\n",
       "      <td>-1</td>\n",
       "      <td>173</td>\n",
       "    </tr>\n",
       "  </tbody>\n",
       "</table>\n",
       "</div>"
      ],
      "text/plain": [
       "                event_time  garage_id  card_type_id  transaction_id  in_out  \\\n",
       "167528 2017-04-14 23:58:00         36           220         3830826      -1   \n",
       "167529 2017-04-14 23:58:00         36           220         3830604      -1   \n",
       "167530 2017-04-14 23:58:00         36           220         3830848      -1   \n",
       "167531 2017-04-14 23:58:00         36           220         3830840      -1   \n",
       "167532 2017-04-14 23:59:00         36           220         3830789      -1   \n",
       "\n",
       "        total_occupied  \n",
       "167528             177  \n",
       "167529             176  \n",
       "167530             175  \n",
       "167531             174  \n",
       "167532             173  "
      ]
     },
     "execution_count": 63,
     "metadata": {},
     "output_type": "execute_result"
    }
   ],
   "source": [
    "bezetting_sel2_36['event_time'] = bezetting_sel2_36['event_time'].astype('datetime64[ns]')\n",
    "print(max(bezetting_sel2_36['total_occupied']))\n",
    "bezetting_sel2_36.tail()"
   ]
  },
  {
   "cell_type": "markdown",
   "metadata": {},
   "source": [
    "Om de twee op elkaar te plotten, gaan we 1 week afhalen van de datums."
   ]
  },
  {
   "cell_type": "code",
   "execution_count": 67,
   "metadata": {},
   "outputs": [
    {
     "name": "stderr",
     "output_type": "stream",
     "text": [
      "C:\\Users\\verho534\\AppData\\Local\\Continuum\\anaconda3\\lib\\site-packages\\pandas\\core\\generic.py:3643: SettingWithCopyWarning: \n",
      "A value is trying to be set on a copy of a slice from a DataFrame.\n",
      "Try using .loc[row_indexer,col_indexer] = value instead\n",
      "\n",
      "See the caveats in the documentation: http://pandas.pydata.org/pandas-docs/stable/indexing.html#indexing-view-versus-copy\n",
      "  self[name] = value\n"
     ]
    }
   ],
   "source": [
    "bezetting_sel2_36.event_time =bezetting_sel2_36.event_time - datetime.timedelta(days=7)"
   ]
  },
  {
   "cell_type": "code",
   "execution_count": 68,
   "metadata": {},
   "outputs": [
    {
     "data": {
      "text/html": [
       "<div>\n",
       "<style scoped>\n",
       "    .dataframe tbody tr th:only-of-type {\n",
       "        vertical-align: middle;\n",
       "    }\n",
       "\n",
       "    .dataframe tbody tr th {\n",
       "        vertical-align: top;\n",
       "    }\n",
       "\n",
       "    .dataframe thead th {\n",
       "        text-align: right;\n",
       "    }\n",
       "</style>\n",
       "<table border=\"1\" class=\"dataframe\">\n",
       "  <thead>\n",
       "    <tr style=\"text-align: right;\">\n",
       "      <th></th>\n",
       "      <th>event_time</th>\n",
       "      <th>garage_id</th>\n",
       "      <th>card_type_id</th>\n",
       "      <th>transaction_id</th>\n",
       "      <th>in_out</th>\n",
       "      <th>total_occupied</th>\n",
       "    </tr>\n",
       "  </thead>\n",
       "  <tbody>\n",
       "    <tr>\n",
       "      <th>143735</th>\n",
       "      <td>2017-04-01 00:00:00</td>\n",
       "      <td>36</td>\n",
       "      <td>220</td>\n",
       "      <td>3817566</td>\n",
       "      <td>-1</td>\n",
       "      <td>176</td>\n",
       "    </tr>\n",
       "    <tr>\n",
       "      <th>143736</th>\n",
       "      <td>2017-04-01 00:00:00</td>\n",
       "      <td>36</td>\n",
       "      <td>220</td>\n",
       "      <td>3817720</td>\n",
       "      <td>1</td>\n",
       "      <td>177</td>\n",
       "    </tr>\n",
       "    <tr>\n",
       "      <th>143737</th>\n",
       "      <td>2017-04-01 00:01:00</td>\n",
       "      <td>36</td>\n",
       "      <td>220</td>\n",
       "      <td>3817721</td>\n",
       "      <td>1</td>\n",
       "      <td>178</td>\n",
       "    </tr>\n",
       "    <tr>\n",
       "      <th>143738</th>\n",
       "      <td>2017-04-01 00:01:00</td>\n",
       "      <td>36</td>\n",
       "      <td>220</td>\n",
       "      <td>3817357</td>\n",
       "      <td>-1</td>\n",
       "      <td>177</td>\n",
       "    </tr>\n",
       "    <tr>\n",
       "      <th>143739</th>\n",
       "      <td>2017-04-01 00:02:00</td>\n",
       "      <td>36</td>\n",
       "      <td>220</td>\n",
       "      <td>3817500</td>\n",
       "      <td>-1</td>\n",
       "      <td>176</td>\n",
       "    </tr>\n",
       "  </tbody>\n",
       "</table>\n",
       "</div>"
      ],
      "text/plain": [
       "                event_time  garage_id  card_type_id  transaction_id  in_out  \\\n",
       "143735 2017-04-01 00:00:00         36           220         3817566      -1   \n",
       "143736 2017-04-01 00:00:00         36           220         3817720       1   \n",
       "143737 2017-04-01 00:01:00         36           220         3817721       1   \n",
       "143738 2017-04-01 00:01:00         36           220         3817357      -1   \n",
       "143739 2017-04-01 00:02:00         36           220         3817500      -1   \n",
       "\n",
       "        total_occupied  \n",
       "143735             176  \n",
       "143736             177  \n",
       "143737             178  \n",
       "143738             177  \n",
       "143739             176  "
      ]
     },
     "execution_count": 68,
     "metadata": {},
     "output_type": "execute_result"
    }
   ],
   "source": [
    "bezetting_sel2_36.head()"
   ]
  },
  {
   "cell_type": "code",
   "execution_count": 69,
   "metadata": {},
   "outputs": [
    {
     "data": {
      "image/png": "[encoded data removed]",
      "text/plain": [
       "<matplotlib.figure.Figure at 0x213282c0588>"
      ]
     },
     "metadata": {},
     "output_type": "display_data"
    }
   ],
   "source": [
    "%matplotlib inline\n",
    "fig = plt.figure(figsize=(16, 4)) \n",
    "plt.plot('event_time','total_occupied', data = bezetting_sel1_36)\n",
    "plt.plot('event_time','total_occupied', data = bezetting_sel2_36)\n",
    "plt.show()"
   ]
  },
  {
   "cell_type": "code",
   "execution_count": 70,
   "metadata": {},
   "outputs": [
    {
     "name": "stdout",
     "output_type": "stream",
     "text": [
      "2017-04-22\n"
     ]
    }
   ],
   "source": [
    "#to_datetime=\"2017-04-08\"\n",
    "from_datetime = to_datetime\n",
    "import datetime\n",
    "to_datetime = (datetime.datetime.strptime(to_datetime, \"%Y-%m-%d\") + datetime.timedelta(days=7))\n",
    "to_datetime = to_datetime.strftime(\"%Y-%m-%d\")\n",
    "print(to_datetime)"
   ]
  },
  {
   "cell_type": "code",
   "execution_count": 71,
   "metadata": {},
   "outputs": [
    {
     "data": {
      "text/html": [
       "<div>\n",
       "<style scoped>\n",
       "    .dataframe tbody tr th:only-of-type {\n",
       "        vertical-align: middle;\n",
       "    }\n",
       "\n",
       "    .dataframe tbody tr th {\n",
       "        vertical-align: top;\n",
       "    }\n",
       "\n",
       "    .dataframe thead th {\n",
       "        text-align: right;\n",
       "    }\n",
       "</style>\n",
       "<table border=\"1\" class=\"dataframe\">\n",
       "  <thead>\n",
       "    <tr style=\"text-align: right;\">\n",
       "      <th></th>\n",
       "      <th>event_time</th>\n",
       "      <th>garage_id</th>\n",
       "      <th>card_type_id</th>\n",
       "      <th>transaction_id</th>\n",
       "      <th>in_out</th>\n",
       "      <th>total_occupied</th>\n",
       "    </tr>\n",
       "  </thead>\n",
       "  <tbody>\n",
       "    <tr>\n",
       "      <th>192312</th>\n",
       "      <td>2017-04-21 23:56:00</td>\n",
       "      <td>36</td>\n",
       "      <td>220</td>\n",
       "      <td>3843659</td>\n",
       "      <td>-1</td>\n",
       "      <td>203</td>\n",
       "    </tr>\n",
       "    <tr>\n",
       "      <th>192313</th>\n",
       "      <td>2017-04-21 23:57:00</td>\n",
       "      <td>36</td>\n",
       "      <td>220</td>\n",
       "      <td>3843646</td>\n",
       "      <td>-1</td>\n",
       "      <td>202</td>\n",
       "    </tr>\n",
       "    <tr>\n",
       "      <th>192314</th>\n",
       "      <td>2017-04-21 23:57:00</td>\n",
       "      <td>36</td>\n",
       "      <td>220</td>\n",
       "      <td>3843589</td>\n",
       "      <td>-1</td>\n",
       "      <td>201</td>\n",
       "    </tr>\n",
       "    <tr>\n",
       "      <th>192315</th>\n",
       "      <td>2017-04-21 23:58:00</td>\n",
       "      <td>36</td>\n",
       "      <td>220</td>\n",
       "      <td>3843620</td>\n",
       "      <td>-1</td>\n",
       "      <td>200</td>\n",
       "    </tr>\n",
       "    <tr>\n",
       "      <th>192316</th>\n",
       "      <td>2017-04-21 23:59:00</td>\n",
       "      <td>36</td>\n",
       "      <td>220</td>\n",
       "      <td>3843401</td>\n",
       "      <td>-1</td>\n",
       "      <td>199</td>\n",
       "    </tr>\n",
       "  </tbody>\n",
       "</table>\n",
       "</div>"
      ],
      "text/plain": [
       "                 event_time  garage_id  card_type_id  transaction_id  in_out  \\\n",
       "192312  2017-04-21 23:56:00         36           220         3843659      -1   \n",
       "192313  2017-04-21 23:57:00         36           220         3843646      -1   \n",
       "192314  2017-04-21 23:57:00         36           220         3843589      -1   \n",
       "192315  2017-04-21 23:58:00         36           220         3843620      -1   \n",
       "192316  2017-04-21 23:59:00         36           220         3843401      -1   \n",
       "\n",
       "        total_occupied  \n",
       "192312             203  \n",
       "192313             202  \n",
       "192314             201  \n",
       "192315             200  \n",
       "192316             199  "
      ]
     },
     "execution_count": 71,
     "metadata": {},
     "output_type": "execute_result"
    }
   ],
   "source": [
    "mask = (bezetting_sel_36['event_time'] >= from_datetime) & (bezetting_sel_36['event_time'] <= to_datetime)\n",
    "bezetting_sel3_36 = bezetting_sel_36.loc[mask]\n",
    "bezetting_sel3_36.tail()"
   ]
  },
  {
   "cell_type": "code",
   "execution_count": 72,
   "metadata": {},
   "outputs": [
    {
     "name": "stdout",
     "output_type": "stream",
     "text": [
      "714\n"
     ]
    },
    {
     "name": "stderr",
     "output_type": "stream",
     "text": [
      "C:\\Users\\verho534\\AppData\\Local\\Continuum\\anaconda3\\lib\\site-packages\\ipykernel_launcher.py:1: SettingWithCopyWarning: \n",
      "A value is trying to be set on a copy of a slice from a DataFrame.\n",
      "Try using .loc[row_indexer,col_indexer] = value instead\n",
      "\n",
      "See the caveats in the documentation: http://pandas.pydata.org/pandas-docs/stable/indexing.html#indexing-view-versus-copy\n",
      "  \"\"\"Entry point for launching an IPython kernel.\n"
     ]
    },
    {
     "data": {
      "text/html": [
       "<div>\n",
       "<style scoped>\n",
       "    .dataframe tbody tr th:only-of-type {\n",
       "        vertical-align: middle;\n",
       "    }\n",
       "\n",
       "    .dataframe tbody tr th {\n",
       "        vertical-align: top;\n",
       "    }\n",
       "\n",
       "    .dataframe thead th {\n",
       "        text-align: right;\n",
       "    }\n",
       "</style>\n",
       "<table border=\"1\" class=\"dataframe\">\n",
       "  <thead>\n",
       "    <tr style=\"text-align: right;\">\n",
       "      <th></th>\n",
       "      <th>event_time</th>\n",
       "      <th>garage_id</th>\n",
       "      <th>card_type_id</th>\n",
       "      <th>transaction_id</th>\n",
       "      <th>in_out</th>\n",
       "      <th>total_occupied</th>\n",
       "    </tr>\n",
       "  </thead>\n",
       "  <tbody>\n",
       "    <tr>\n",
       "      <th>192312</th>\n",
       "      <td>2017-04-21 23:56:00</td>\n",
       "      <td>36</td>\n",
       "      <td>220</td>\n",
       "      <td>3843659</td>\n",
       "      <td>-1</td>\n",
       "      <td>203</td>\n",
       "    </tr>\n",
       "    <tr>\n",
       "      <th>192313</th>\n",
       "      <td>2017-04-21 23:57:00</td>\n",
       "      <td>36</td>\n",
       "      <td>220</td>\n",
       "      <td>3843646</td>\n",
       "      <td>-1</td>\n",
       "      <td>202</td>\n",
       "    </tr>\n",
       "    <tr>\n",
       "      <th>192314</th>\n",
       "      <td>2017-04-21 23:57:00</td>\n",
       "      <td>36</td>\n",
       "      <td>220</td>\n",
       "      <td>3843589</td>\n",
       "      <td>-1</td>\n",
       "      <td>201</td>\n",
       "    </tr>\n",
       "    <tr>\n",
       "      <th>192315</th>\n",
       "      <td>2017-04-21 23:58:00</td>\n",
       "      <td>36</td>\n",
       "      <td>220</td>\n",
       "      <td>3843620</td>\n",
       "      <td>-1</td>\n",
       "      <td>200</td>\n",
       "    </tr>\n",
       "    <tr>\n",
       "      <th>192316</th>\n",
       "      <td>2017-04-21 23:59:00</td>\n",
       "      <td>36</td>\n",
       "      <td>220</td>\n",
       "      <td>3843401</td>\n",
       "      <td>-1</td>\n",
       "      <td>199</td>\n",
       "    </tr>\n",
       "  </tbody>\n",
       "</table>\n",
       "</div>"
      ],
      "text/plain": [
       "                event_time  garage_id  card_type_id  transaction_id  in_out  \\\n",
       "192312 2017-04-21 23:56:00         36           220         3843659      -1   \n",
       "192313 2017-04-21 23:57:00         36           220         3843646      -1   \n",
       "192314 2017-04-21 23:57:00         36           220         3843589      -1   \n",
       "192315 2017-04-21 23:58:00         36           220         3843620      -1   \n",
       "192316 2017-04-21 23:59:00         36           220         3843401      -1   \n",
       "\n",
       "        total_occupied  \n",
       "192312             203  \n",
       "192313             202  \n",
       "192314             201  \n",
       "192315             200  \n",
       "192316             199  "
      ]
     },
     "execution_count": 72,
     "metadata": {},
     "output_type": "execute_result"
    }
   ],
   "source": [
    "bezetting_sel3_36['event_time'] = bezetting_sel3_36['event_time'].astype('datetime64[ns]')\n",
    "print(max(bezetting_sel3_36['total_occupied']))\n",
    "bezetting_sel3_36.tail()"
   ]
  },
  {
   "cell_type": "code",
   "execution_count": 75,
   "metadata": {},
   "outputs": [
    {
     "name": "stderr",
     "output_type": "stream",
     "text": [
      "C:\\Users\\verho534\\AppData\\Local\\Continuum\\anaconda3\\lib\\site-packages\\pandas\\core\\generic.py:3643: SettingWithCopyWarning: \n",
      "A value is trying to be set on a copy of a slice from a DataFrame.\n",
      "Try using .loc[row_indexer,col_indexer] = value instead\n",
      "\n",
      "See the caveats in the documentation: http://pandas.pydata.org/pandas-docs/stable/indexing.html#indexing-view-versus-copy\n",
      "  self[name] = value\n"
     ]
    }
   ],
   "source": [
    "bezetting_sel3_36.event_time = bezetting_sel3_36.event_time - datetime.timedelta(days=14)"
   ]
  },
  {
   "cell_type": "code",
   "execution_count": 76,
   "metadata": {},
   "outputs": [
    {
     "data": {
      "image/png": "[encoded data removed]",
      "text/plain": [
       "<matplotlib.figure.Figure at 0x21326fb3dd8>"
      ]
     },
     "metadata": {},
     "output_type": "display_data"
    }
   ],
   "source": [
    "fig = plt.figure(figsize=(16, 4)) \n",
    "plt.plot('event_time','total_occupied', data = bezetting_sel1_36)\n",
    "plt.plot('event_time','total_occupied', data = bezetting_sel2_36)\n",
    "plt.plot('event_time','total_occupied', data = bezetting_sel3_36)\n",
    "plt.show()"
   ]
  },
  {
   "cell_type": "code",
   "execution_count": null,
   "metadata": {},
   "outputs": [],
   "source": [
    "weekdata = list()\n",
    "from_datetime=\"2017-04-01\"\n",
    "to_datetime=\"2017-04-08\"\n",
    "for i in range(12):\n",
    "    mask = (bezetting_sel_36['event_time'] >= from_datetime) & (bezetting_sel_36['event_time'] <= to_datetime)\n",
    "    bezetting_seltest_36 = bezetting_sel_36.loc[mask]\n",
    "    bezetting_seltest_36['event_time'] = bezetting_seltest_36['event_time'].astype('datetime64[ns]')\n",
    "    bezetting_seltest_36.event_time = bezetting_seltest_36.event_time - datetime.timedelta(days = 7 * i)\n",
    "    print(max(bezetting_seltest_36['total_occupied']))\n",
    "    weekdata.append(bezetting_sel_36.loc[mask])\n",
    "    from_datetime = to_datetime\n",
    "    to_datetime = (datetime.datetime.strptime(to_datetime, \"%Y-%m-%d\") + datetime.timedelta(days=7))\n",
    "    to_datetime = to_datetime.strftime(\"%Y-%m-%d\")\n",
    "weekdata[1]"
   ]
  },
  {
   "cell_type": "code",
   "execution_count": null,
   "metadata": {},
   "outputs": [],
   "source": []
  }
 ],
 "metadata": {
  "kernelspec": {
   "display_name": "Python 3",
   "language": "python",
   "name": "python3"
  },
  "language_info": {
   "codemirror_mode": {
    "name": "ipython",
    "version": 3
   },
   "file_extension": ".py",
   "mimetype": "text/x-python",
   "name": "python",
   "nbconvert_exporter": "python",
   "pygments_lexer": "ipython3",
   "version": "3.6.4"
  }
 },
 "nbformat": 4,
 "nbformat_minor": 2
}
