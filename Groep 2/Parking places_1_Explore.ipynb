{
 "cells": [
  {
   "cell_type": "markdown",
   "metadata": {},
   "source": [
    "<h1>Parking places</h1>\n",
    "<h2>Exploration</h2>\n",
    "<p>\n",
    "    <ol>\n",
    "        <li>Get a feeling of the data</li>\n",
    "        <li>Cluster (just example)</li>\n",
    "        <li>Group per parking_place per day (count # transactions)</li>\n",
    "        <li>Select some data (garage_id, time window)</li>\n",
    "        <li>Calculate rolling mean</li>\n",
    "        <li>Show graph data</li>\n",
    "   <li>Later ...see if we can classify on date, maybe other features and say something about how many visitors</li>\n",
    "        </ol>\n",
    "       \n",
    "</p>\n"
   ]
  },
  {
   "cell_type": "code",
   "execution_count": 119,
   "metadata": {},
   "outputs": [],
   "source": [
    "%matplotlib inline\n",
    "import pandas as pd\n",
    "import numpy as np"
   ]
  },
  {
   "cell_type": "markdown",
   "metadata": {},
   "source": [
    "<h2>Load the data</h2>"
   ]
  },
  {
   "cell_type": "code",
   "execution_count": 3,
   "metadata": {},
   "outputs": [],
   "source": [
    "path=''\n",
    "parking_transactions=pd.read_csv(path+'parkeerdata/leeuwarden_garage_parking_transactions.csv',sep=\";\")"
   ]
  },
  {
   "cell_type": "code",
   "execution_count": 4,
   "metadata": {},
   "outputs": [],
   "source": [
    "parking_locations=pd.read_csv(path+'parkeerdata/leeuwarden_garage_parking_garage_gps.csv',sep=\";\",decimal=\",\")"
   ]
  },
  {
   "cell_type": "code",
   "execution_count": 110,
   "metadata": {},
   "outputs": [],
   "source": [
    "automaten_locations = pd.read_excel(path + 'parkeerdata/parkeerautomaten_gps.xlsx', sep = \";\", decimal= \",\")"
   ]
  },
  {
   "cell_type": "code",
   "execution_count": 111,
   "metadata": {},
   "outputs": [
    {
     "name": "stdout",
     "output_type": "stream",
     "text": [
      "parking_transactions (3380160, 11)\n",
      "parking_locations (5, 7)\n",
      "automaten_locations (9, 3)\n"
     ]
    }
   ],
   "source": [
    "print(\"parking_transactions\",parking_transactions.shape)\n",
    "print(\"parking_locations\",parking_locations.shape)\n",
    "print(\"automaten_locations\", sensor_locations.shape)"
   ]
  },
  {
   "cell_type": "code",
   "execution_count": 6,
   "metadata": {},
   "outputs": [
    {
     "data": {
      "text/html": [
       "<div>\n",
       "<style scoped>\n",
       "    .dataframe tbody tr th:only-of-type {\n",
       "        vertical-align: middle;\n",
       "    }\n",
       "\n",
       "    .dataframe tbody tr th {\n",
       "        vertical-align: top;\n",
       "    }\n",
       "\n",
       "    .dataframe thead th {\n",
       "        text-align: right;\n",
       "    }\n",
       "</style>\n",
       "<table border=\"1\" class=\"dataframe\">\n",
       "  <thead>\n",
       "    <tr style=\"text-align: right;\">\n",
       "      <th></th>\n",
       "      <th>garage_id</th>\n",
       "      <th>card_type_id</th>\n",
       "      <th>transaction_id</th>\n",
       "      <th>start_parking_dt</th>\n",
       "      <th>end_parking_dt</th>\n",
       "      <th>pay_parking_dt</th>\n",
       "      <th>entry_station_cid</th>\n",
       "      <th>pay_station_cid</th>\n",
       "      <th>exit_station_cid</th>\n",
       "    </tr>\n",
       "  </thead>\n",
       "  <tbody>\n",
       "    <tr>\n",
       "      <th>0</th>\n",
       "      <td>36</td>\n",
       "      <td>220</td>\n",
       "      <td>2912536</td>\n",
       "      <td>1-1-2016 00:14</td>\n",
       "      <td>1-1-2016 06:17</td>\n",
       "      <td>1-1-2016 06:14</td>\n",
       "      <td>989.0</td>\n",
       "      <td>998.0</td>\n",
       "      <td>992.0</td>\n",
       "    </tr>\n",
       "    <tr>\n",
       "      <th>1</th>\n",
       "      <td>36</td>\n",
       "      <td>220</td>\n",
       "      <td>2912538</td>\n",
       "      <td>1-1-2016 00:27</td>\n",
       "      <td>1-1-2016 05:11</td>\n",
       "      <td>1-1-2016 05:09</td>\n",
       "      <td>989.0</td>\n",
       "      <td>998.0</td>\n",
       "      <td>992.0</td>\n",
       "    </tr>\n",
       "    <tr>\n",
       "      <th>2</th>\n",
       "      <td>36</td>\n",
       "      <td>220</td>\n",
       "      <td>2912537</td>\n",
       "      <td>1-1-2016 00:27</td>\n",
       "      <td>1-1-2016 05:56</td>\n",
       "      <td>1-1-2016 05:52</td>\n",
       "      <td>988.0</td>\n",
       "      <td>998.0</td>\n",
       "      <td>993.0</td>\n",
       "    </tr>\n",
       "    <tr>\n",
       "      <th>3</th>\n",
       "      <td>36</td>\n",
       "      <td>220</td>\n",
       "      <td>2912539</td>\n",
       "      <td>1-1-2016 00:28</td>\n",
       "      <td>1-1-2016 08:14</td>\n",
       "      <td>1-1-2016 08:06</td>\n",
       "      <td>989.0</td>\n",
       "      <td>998.0</td>\n",
       "      <td>992.0</td>\n",
       "    </tr>\n",
       "    <tr>\n",
       "      <th>4</th>\n",
       "      <td>36</td>\n",
       "      <td>220</td>\n",
       "      <td>2912540</td>\n",
       "      <td>1-1-2016 00:34</td>\n",
       "      <td>1-1-2016 04:09</td>\n",
       "      <td>1-1-2016 04:03</td>\n",
       "      <td>989.0</td>\n",
       "      <td>998.0</td>\n",
       "      <td>992.0</td>\n",
       "    </tr>\n",
       "  </tbody>\n",
       "</table>\n",
       "</div>"
      ],
      "text/plain": [
       "   garage_id  card_type_id  transaction_id start_parking_dt  end_parking_dt  \\\n",
       "0         36           220         2912536   1-1-2016 00:14  1-1-2016 06:17   \n",
       "1         36           220         2912538   1-1-2016 00:27  1-1-2016 05:11   \n",
       "2         36           220         2912537   1-1-2016 00:27  1-1-2016 05:56   \n",
       "3         36           220         2912539   1-1-2016 00:28  1-1-2016 08:14   \n",
       "4         36           220         2912540   1-1-2016 00:34  1-1-2016 04:09   \n",
       "\n",
       "   pay_parking_dt  entry_station_cid  pay_station_cid  exit_station_cid  \n",
       "0  1-1-2016 06:14              989.0            998.0             992.0  \n",
       "1  1-1-2016 05:09              989.0            998.0             992.0  \n",
       "2  1-1-2016 05:52              988.0            998.0             993.0  \n",
       "3  1-1-2016 08:06              989.0            998.0             992.0  \n",
       "4  1-1-2016 04:03              989.0            998.0             992.0  "
      ]
     },
     "execution_count": 6,
     "metadata": {},
     "output_type": "execute_result"
    }
   ],
   "source": [
    "parking_transactions.head()"
   ]
  },
  {
   "cell_type": "code",
   "execution_count": 7,
   "metadata": {},
   "outputs": [
    {
     "data": {
      "text/html": [
       "<div>\n",
       "<style scoped>\n",
       "    .dataframe tbody tr th:only-of-type {\n",
       "        vertical-align: middle;\n",
       "    }\n",
       "\n",
       "    .dataframe tbody tr th {\n",
       "        vertical-align: top;\n",
       "    }\n",
       "\n",
       "    .dataframe thead th {\n",
       "        text-align: right;\n",
       "    }\n",
       "</style>\n",
       "<table border=\"1\" class=\"dataframe\">\n",
       "  <thead>\n",
       "    <tr style=\"text-align: right;\">\n",
       "      <th></th>\n",
       "      <th>garage_id</th>\n",
       "      <th>garage_nm</th>\n",
       "      <th>capacity_value</th>\n",
       "      <th>latitude</th>\n",
       "      <th>longitude</th>\n",
       "    </tr>\n",
       "  </thead>\n",
       "  <tbody>\n",
       "    <tr>\n",
       "      <th>0</th>\n",
       "      <td>39</td>\n",
       "      <td>Oldehove</td>\n",
       "      <td>525</td>\n",
       "      <td>53.203227</td>\n",
       "      <td>5.789788</td>\n",
       "    </tr>\n",
       "    <tr>\n",
       "      <th>1</th>\n",
       "      <td>40</td>\n",
       "      <td>Oosterstraat</td>\n",
       "      <td>250</td>\n",
       "      <td>53.201402</td>\n",
       "      <td>5.801438</td>\n",
       "    </tr>\n",
       "    <tr>\n",
       "      <th>2</th>\n",
       "      <td>36</td>\n",
       "      <td>Zaailand</td>\n",
       "      <td>720</td>\n",
       "      <td>53.199224</td>\n",
       "      <td>5.795601</td>\n",
       "    </tr>\n",
       "    <tr>\n",
       "      <th>3</th>\n",
       "      <td>37</td>\n",
       "      <td>Klanderij</td>\n",
       "      <td>625</td>\n",
       "      <td>53.197996</td>\n",
       "      <td>5.798296</td>\n",
       "    </tr>\n",
       "    <tr>\n",
       "      <th>4</th>\n",
       "      <td>38</td>\n",
       "      <td>Hoeksterend</td>\n",
       "      <td>390</td>\n",
       "      <td>53.205792</td>\n",
       "      <td>5.802553</td>\n",
       "    </tr>\n",
       "  </tbody>\n",
       "</table>\n",
       "</div>"
      ],
      "text/plain": [
       "   garage_id     garage_nm  capacity_value   latitude  longitude\n",
       "0         39      Oldehove             525  53.203227   5.789788\n",
       "1         40  Oosterstraat             250  53.201402   5.801438\n",
       "2         36      Zaailand             720  53.199224   5.795601\n",
       "3         37     Klanderij             625  53.197996   5.798296\n",
       "4         38   Hoeksterend             390  53.205792   5.802553"
      ]
     },
     "execution_count": 7,
     "metadata": {},
     "output_type": "execute_result"
    }
   ],
   "source": [
    "parking_locations.head()"
   ]
  },
  {
   "cell_type": "code",
   "execution_count": 112,
   "metadata": {},
   "outputs": [
    {
     "data": {
      "text/html": [
       "<div>\n",
       "<style scoped>\n",
       "    .dataframe tbody tr th:only-of-type {\n",
       "        vertical-align: middle;\n",
       "    }\n",
       "\n",
       "    .dataframe tbody tr th {\n",
       "        vertical-align: top;\n",
       "    }\n",
       "\n",
       "    .dataframe thead th {\n",
       "        text-align: right;\n",
       "    }\n",
       "</style>\n",
       "<table border=\"1\" class=\"dataframe\">\n",
       "  <thead>\n",
       "    <tr style=\"text-align: right;\">\n",
       "      <th></th>\n",
       "      <th>Nr.</th>\n",
       "      <th>Locatie</th>\n",
       "      <th>Zone</th>\n",
       "      <th>Tarief</th>\n",
       "      <th>Max parkeerduur</th>\n",
       "      <th>latitude</th>\n",
       "      <th>longitude</th>\n",
       "    </tr>\n",
       "  </thead>\n",
       "  <tbody>\n",
       "    <tr>\n",
       "      <th>1</th>\n",
       "      <td>8901</td>\n",
       "      <td>Willemskade achter justitie</td>\n",
       "      <td>A</td>\n",
       "      <td>2.8</td>\n",
       "      <td>1 uur</td>\n",
       "      <td>53.198622</td>\n",
       "      <td>5.794032</td>\n",
       "    </tr>\n",
       "    <tr>\n",
       "      <th>2</th>\n",
       "      <td>8902</td>\n",
       "      <td>Willemskade NZ t/o ABN ARMO bank</td>\n",
       "      <td>A</td>\n",
       "      <td>2.8</td>\n",
       "      <td>1 uur</td>\n",
       "      <td>53.198777</td>\n",
       "      <td>5.792407</td>\n",
       "    </tr>\n",
       "    <tr>\n",
       "      <th>3</th>\n",
       "      <td>8903</td>\n",
       "      <td>Zuiderstraat</td>\n",
       "      <td>A</td>\n",
       "      <td>2.8</td>\n",
       "      <td>1 uur</td>\n",
       "      <td>53.198700</td>\n",
       "      <td>5.795136</td>\n",
       "    </tr>\n",
       "    <tr>\n",
       "      <th>4</th>\n",
       "      <td>8904</td>\n",
       "      <td>reserve</td>\n",
       "      <td>A</td>\n",
       "      <td>2.8</td>\n",
       "      <td>1 uur</td>\n",
       "      <td>NaN</td>\n",
       "      <td>NaN</td>\n",
       "    </tr>\n",
       "    <tr>\n",
       "      <th>5</th>\n",
       "      <td>8905</td>\n",
       "      <td>Beursplein</td>\n",
       "      <td>A</td>\n",
       "      <td>2.8</td>\n",
       "      <td>1 uur</td>\n",
       "      <td>53.198795</td>\n",
       "      <td>5.795872</td>\n",
       "    </tr>\n",
       "  </tbody>\n",
       "</table>\n",
       "</div>"
      ],
      "text/plain": [
       "    Nr.                           Locatie Zone  Tarief Max parkeerduur  \\\n",
       "1  8901       Willemskade achter justitie    A     2.8           1 uur   \n",
       "2  8902  Willemskade NZ t/o ABN ARMO bank    A     2.8           1 uur   \n",
       "3  8903                      Zuiderstraat    A     2.8           1 uur   \n",
       "4  8904                           reserve    A     2.8           1 uur   \n",
       "5  8905                        Beursplein    A     2.8           1 uur   \n",
       "\n",
       "    latitude  longitude  \n",
       "1  53.198622   5.794032  \n",
       "2  53.198777   5.792407  \n",
       "3  53.198700   5.795136  \n",
       "4        NaN        NaN  \n",
       "5  53.198795   5.795872  "
      ]
     },
     "execution_count": 112,
     "metadata": {},
     "output_type": "execute_result"
    }
   ],
   "source": [
    "automaten_locations.head(7)"
   ]
  },
  {
   "cell_type": "markdown",
   "metadata": {},
   "source": [
    "Soms is de locatie niet bekend."
   ]
  },
  {
   "cell_type": "code",
   "execution_count": 83,
   "metadata": {},
   "outputs": [],
   "source": []
  },
  {
   "cell_type": "markdown",
   "metadata": {},
   "source": [
    "<h2>Plot the latitude and longitude of the parking locations</h2>"
   ]
  },
  {
   "cell_type": "code",
   "execution_count": 113,
   "metadata": {},
   "outputs": [
    {
     "data": {
      "text/plain": [
       "[<matplotlib.lines.Line2D at 0x22fbba40e80>]"
      ]
     },
     "execution_count": 113,
     "metadata": {},
     "output_type": "execute_result"
    },
    {
     "data": {
      "image/png": "[encoded data removed]",
      "text/plain": [
       "<matplotlib.figure.Figure at 0x22fcbd99240>"
      ]
     },
     "metadata": {},
     "output_type": "display_data"
    }
   ],
   "source": [
    "import matplotlib.pyplot as plt\n",
    "plt.plot(parking_locations.latitude, parking_locations.longitude,'co')\n",
    "plt.plot(automaten_locations.latitude, automaten_locations.longitude, 'ro')"
   ]
  },
  {
   "cell_type": "code",
   "execution_count": 39,
   "metadata": {},
   "outputs": [
    {
     "data": {
      "text/plain": [
       "0        Oldehove\n",
       "1    Oosterstraat\n",
       "2        Zaailand\n",
       "3       Klanderij\n",
       "4     Hoeksterend\n",
       "Name: garage_nm, dtype: object"
      ]
     },
     "execution_count": 39,
     "metadata": {},
     "output_type": "execute_result"
    }
   ],
   "source": [
    "parking_locations.garage_nm"
   ]
  },
  {
   "cell_type": "code",
   "execution_count": 124,
   "metadata": {},
   "outputs": [
    {
     "data": {
      "text/html": [
       "<div style=\"width:100%;\"><div style=\"position:relative;width:100%;height:0;padding-bottom:60%;\"><iframe src=\"data:text/html;charset=utf-8;base64,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\" style=\"position:absolute;width:100%;height:100%;left:0;top:0;border:none !important;\" allowfullscreen webkitallowfullscreen mozallowfullscreen></iframe></div></div>"
      ],
      "text/plain": [
       "<folium.folium.Map at 0x22f907e4160>"
      ]
     },
     "execution_count": 124,
     "metadata": {},
     "output_type": "execute_result"
    }
   ],
   "source": [
    "import folium #note: will not run in explorer\n",
    "folium_map = folium.Map(location=[np.mean(parking_locations.latitude[:]), np.mean(parking_locations.longitude[:])],\n",
    "                        zoom_start=14, width = 500, height = 300, control_scale = True)\n",
    "#folium.TileLayer('openstreetmap').add_to(folium_map)\n",
    "#folium.LayerControl().add_to(folium_map)\n",
    "for i in range(len(parking_locations)):\n",
    "    folium.Marker([parking_locations.latitude[i], parking_locations.longitude[i]],\n",
    "                  popup = parking_locations.garage_nm[i], icon=folium.Icon(icon='car', prefix='fa')).add_to(folium_map)\n",
    "\n",
    "#er zitten wat lege waarden tussen, dus die halen we er uit\n",
    "automaten_locations_nonNA = automaten_locations.dropna()\n",
    "automaten_locations_nonNA = automaten_locations_nonNA.reset_index(drop=True)\n",
    "for i in range(len(automaten_locations_nonNA)):\n",
    "    folium.RegularPolygonMarker([automaten_locations_nonNA.latitude[i], automaten_locations_nonNA.longitude[i]],\n",
    "                                fill_color = 'black', number_of_sides = 20, radius = 5).add_to(folium_map)\n",
    "folium_map\n"
   ]
  },
  {
   "cell_type": "markdown",
   "metadata": {},
   "source": [
    "<h2>K-Means Clustering</h2>\n",
    "<p>\n",
    "    <ol>\n",
    "<li>Perform K-means clustering on the dataset using the *KMeans* function from sklearn.cluster. </li>\n",
    "<li>Perform a prediction using *predict()* on the data set. </li>\n",
    "<li>Show the results by coloring each dot in the scatterplot  </li>\n",
    "<li>We would like to create two groups (why? just for demonstrating now) so the number of clusters the algorithm is two.</li>\n",
    "    </ol>\n",
    "</p>"
   ]
  },
  {
   "cell_type": "code",
   "execution_count": 91,
   "metadata": {},
   "outputs": [
    {
     "data": {
      "text/html": [
       "<div>\n",
       "<style scoped>\n",
       "    .dataframe tbody tr th:only-of-type {\n",
       "        vertical-align: middle;\n",
       "    }\n",
       "\n",
       "    .dataframe tbody tr th {\n",
       "        vertical-align: top;\n",
       "    }\n",
       "\n",
       "    .dataframe thead th {\n",
       "        text-align: right;\n",
       "    }\n",
       "</style>\n",
       "<table border=\"1\" class=\"dataframe\">\n",
       "  <thead>\n",
       "    <tr style=\"text-align: right;\">\n",
       "      <th></th>\n",
       "      <th>garage_id</th>\n",
       "      <th>garage_nm</th>\n",
       "      <th>capacity_value</th>\n",
       "      <th>latitude</th>\n",
       "      <th>longitude</th>\n",
       "    </tr>\n",
       "  </thead>\n",
       "  <tbody>\n",
       "    <tr>\n",
       "      <th>0</th>\n",
       "      <td>39</td>\n",
       "      <td>Oldehove</td>\n",
       "      <td>525</td>\n",
       "      <td>53.203227</td>\n",
       "      <td>5.789788</td>\n",
       "    </tr>\n",
       "    <tr>\n",
       "      <th>1</th>\n",
       "      <td>40</td>\n",
       "      <td>Oosterstraat</td>\n",
       "      <td>250</td>\n",
       "      <td>53.201402</td>\n",
       "      <td>5.801438</td>\n",
       "    </tr>\n",
       "    <tr>\n",
       "      <th>2</th>\n",
       "      <td>36</td>\n",
       "      <td>Zaailand</td>\n",
       "      <td>720</td>\n",
       "      <td>53.199224</td>\n",
       "      <td>5.795601</td>\n",
       "    </tr>\n",
       "    <tr>\n",
       "      <th>3</th>\n",
       "      <td>37</td>\n",
       "      <td>Klanderij</td>\n",
       "      <td>625</td>\n",
       "      <td>53.197996</td>\n",
       "      <td>5.798296</td>\n",
       "    </tr>\n",
       "    <tr>\n",
       "      <th>4</th>\n",
       "      <td>38</td>\n",
       "      <td>Hoeksterend</td>\n",
       "      <td>390</td>\n",
       "      <td>53.205792</td>\n",
       "      <td>5.802553</td>\n",
       "    </tr>\n",
       "  </tbody>\n",
       "</table>\n",
       "</div>"
      ],
      "text/plain": [
       "   garage_id     garage_nm  capacity_value   latitude  longitude\n",
       "0         39      Oldehove             525  53.203227   5.789788\n",
       "1         40  Oosterstraat             250  53.201402   5.801438\n",
       "2         36      Zaailand             720  53.199224   5.795601\n",
       "3         37     Klanderij             625  53.197996   5.798296\n",
       "4         38   Hoeksterend             390  53.205792   5.802553"
      ]
     },
     "execution_count": 91,
     "metadata": {},
     "output_type": "execute_result"
    }
   ],
   "source": [
    "parking_locations[['latitude', 'longitude']] = parking_locations[['latitude', 'longitude']].astype(float)\n",
    "parking_locations"
   ]
  },
  {
   "cell_type": "code",
   "execution_count": 92,
   "metadata": {},
   "outputs": [
    {
     "data": {
      "text/plain": [
       "array([1, 0, 1, 1, 0])"
      ]
     },
     "execution_count": 92,
     "metadata": {},
     "output_type": "execute_result"
    },
    {
     "data": {
      "image/png": "[encoded data removed]",
      "text/plain": [
       "<matplotlib.figure.Figure at 0x22f901e48d0>"
      ]
     },
     "metadata": {},
     "output_type": "display_data"
    }
   ],
   "source": [
    "from sklearn.cluster import KMeans\n",
    "X =parking_locations[['latitude','longitude']] \n",
    "k_means=KMeans(n_clusters=2,random_state=0)\n",
    "k_means.fit(X)\n",
    "cluster_values=k_means.predict(X)\n",
    "fig = plt.figure(figsize=(8, 6)) \n",
    "plt.title(\"parking locations\",size=20)\n",
    "plt.scatter(X.longitude,X.latitude,c=cluster_values,s=100)\n",
    "\n",
    "cluster_values"
   ]
  },
  {
   "cell_type": "code",
   "execution_count": 72,
   "metadata": {},
   "outputs": [
    {
     "data": {
      "text/html": [
       "<div style=\"width:100%;\"><div style=\"position:relative;width:100%;height:0;padding-bottom:60%;\"><iframe src=\"data:text/html;charset=utf-8;base64,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\" style=\"position:absolute;width:100%;height:100%;left:0;top:0;border:none !important;\" allowfullscreen webkitallowfullscreen mozallowfullscreen></iframe></div></div>"
      ],
      "text/plain": [
       "<folium.folium.Map at 0x22f8fc7c978>"
      ]
     },
     "execution_count": 72,
     "metadata": {},
     "output_type": "execute_result"
    }
   ],
   "source": [
    "fmap = folium.Map(location=[np.mean(parking_locations.latitude[:]), np.mean(parking_locations.longitude[:])],\n",
    "                        zoom_start=14, width = 500, height = 300, control_scale = True)\n",
    "for i in range(len(parking_locations)):\n",
    "    folium.Marker([parking_locations.latitude[i], parking_locations.longitude[i]],\n",
    "                  popup = parking_locations.garage_nm[i], icon=folium.Icon(prefix = 'fa', icon ='car', color = cluster_values[i]*'orange')).add_to(fmap)\n",
    "#folium.TileLayer('stamentoner').add_to(folium_map)\n",
    "fmap"
   ]
  },
  {
   "cell_type": "markdown",
   "metadata": {},
   "source": [
    "<h2>Add the column with the cluster number to the dataset and save it to csv</h2>"
   ]
  },
  {
   "cell_type": "code",
   "execution_count": 93,
   "metadata": {},
   "outputs": [
    {
     "data": {
      "text/html": [
       "<div>\n",
       "<style scoped>\n",
       "    .dataframe tbody tr th:only-of-type {\n",
       "        vertical-align: middle;\n",
       "    }\n",
       "\n",
       "    .dataframe tbody tr th {\n",
       "        vertical-align: top;\n",
       "    }\n",
       "\n",
       "    .dataframe thead th {\n",
       "        text-align: right;\n",
       "    }\n",
       "</style>\n",
       "<table border=\"1\" class=\"dataframe\">\n",
       "  <thead>\n",
       "    <tr style=\"text-align: right;\">\n",
       "      <th></th>\n",
       "      <th>garage_id</th>\n",
       "      <th>garage_nm</th>\n",
       "      <th>capacity_value</th>\n",
       "      <th>latitude</th>\n",
       "      <th>longitude</th>\n",
       "      <th>cluster</th>\n",
       "    </tr>\n",
       "  </thead>\n",
       "  <tbody>\n",
       "    <tr>\n",
       "      <th>0</th>\n",
       "      <td>39</td>\n",
       "      <td>Oldehove</td>\n",
       "      <td>525</td>\n",
       "      <td>53.203227</td>\n",
       "      <td>5.789788</td>\n",
       "      <td>1</td>\n",
       "    </tr>\n",
       "    <tr>\n",
       "      <th>1</th>\n",
       "      <td>40</td>\n",
       "      <td>Oosterstraat</td>\n",
       "      <td>250</td>\n",
       "      <td>53.201402</td>\n",
       "      <td>5.801438</td>\n",
       "      <td>0</td>\n",
       "    </tr>\n",
       "    <tr>\n",
       "      <th>2</th>\n",
       "      <td>36</td>\n",
       "      <td>Zaailand</td>\n",
       "      <td>720</td>\n",
       "      <td>53.199224</td>\n",
       "      <td>5.795601</td>\n",
       "      <td>1</td>\n",
       "    </tr>\n",
       "    <tr>\n",
       "      <th>3</th>\n",
       "      <td>37</td>\n",
       "      <td>Klanderij</td>\n",
       "      <td>625</td>\n",
       "      <td>53.197996</td>\n",
       "      <td>5.798296</td>\n",
       "      <td>1</td>\n",
       "    </tr>\n",
       "    <tr>\n",
       "      <th>4</th>\n",
       "      <td>38</td>\n",
       "      <td>Hoeksterend</td>\n",
       "      <td>390</td>\n",
       "      <td>53.205792</td>\n",
       "      <td>5.802553</td>\n",
       "      <td>0</td>\n",
       "    </tr>\n",
       "  </tbody>\n",
       "</table>\n",
       "</div>"
      ],
      "text/plain": [
       "   garage_id     garage_nm  capacity_value   latitude  longitude  cluster\n",
       "0         39      Oldehove             525  53.203227   5.789788        1\n",
       "1         40  Oosterstraat             250  53.201402   5.801438        0\n",
       "2         36      Zaailand             720  53.199224   5.795601        1\n",
       "3         37     Klanderij             625  53.197996   5.798296        1\n",
       "4         38   Hoeksterend             390  53.205792   5.802553        0"
      ]
     },
     "execution_count": 93,
     "metadata": {},
     "output_type": "execute_result"
    }
   ],
   "source": [
    "parking_locations['cluster']=cluster_values\n",
    "parking_locations.head()"
   ]
  },
  {
   "cell_type": "code",
   "execution_count": 94,
   "metadata": {},
   "outputs": [],
   "source": [
    "parking_locations.to_csv(\"../data/out-clusters.csv\",sep=\";\")"
   ]
  },
  {
   "cell_type": "markdown",
   "metadata": {},
   "source": [
    "#### Extra information about the groups"
   ]
  },
  {
   "cell_type": "code",
   "execution_count": 95,
   "metadata": {},
   "outputs": [
    {
     "data": {
      "text/plain": [
       "array([1, 0, 1, 1, 0])"
      ]
     },
     "execution_count": 95,
     "metadata": {},
     "output_type": "execute_result"
    }
   ],
   "source": [
    "k_means.labels_"
   ]
  },
  {
   "cell_type": "code",
   "execution_count": 96,
   "metadata": {},
   "outputs": [
    {
     "name": "stdout",
     "output_type": "stream",
     "text": [
      "0\n",
      "       garage_id  capacity_value   latitude  longitude  cluster  labels\n",
      "count   2.000000        2.000000   2.000000   2.000000      2.0     2.0\n",
      "mean   39.000000      320.000000  53.203597   5.801996      0.0     0.0\n",
      "std     1.414214       98.994949   0.003104   0.000789      0.0     0.0\n",
      "min    38.000000      250.000000  53.201402   5.801438      0.0     0.0\n",
      "25%    38.500000      285.000000  53.202499   5.801717      0.0     0.0\n",
      "50%    39.000000      320.000000  53.203597   5.801996      0.0     0.0\n",
      "75%    39.500000      355.000000  53.204694   5.802275      0.0     0.0\n",
      "max    40.000000      390.000000  53.205792   5.802553      0.0     0.0\n",
      "1\n",
      "       garage_id  capacity_value   latitude  longitude  cluster  labels\n",
      "count   3.000000        3.000000   3.000000   3.000000      3.0     3.0\n",
      "mean   37.333333      623.333333  53.200149   5.794562      1.0     1.0\n",
      "std     1.527525       97.510683   0.002736   0.004348      0.0     0.0\n",
      "min    36.000000      525.000000  53.197996   5.789788      1.0     1.0\n",
      "25%    36.500000      575.000000  53.198610   5.792695      1.0     1.0\n",
      "50%    37.000000      625.000000  53.199224   5.795601      1.0     1.0\n",
      "75%    38.000000      672.500000  53.201226   5.796948      1.0     1.0\n",
      "max    39.000000      720.000000  53.203227   5.798296      1.0     1.0\n"
     ]
    }
   ],
   "source": [
    "parking_locations['labels'] = k_means.labels_\n",
    "# df_labels=pd.DataFrame({'labels': kmeans.labels_})\n",
    "label_groups = parking_locations.groupby('labels')\n",
    "\n",
    "for name, group in label_groups:\n",
    "    print(name) \n",
    "    print(group.describe())"
   ]
  },
  {
   "cell_type": "markdown",
   "metadata": {
    "collapsed": true
   },
   "source": [
    "<h2>Group the visits per parking_place per day</h2>\n"
   ]
  },
  {
   "cell_type": "code",
   "execution_count": 99,
   "metadata": {},
   "outputs": [
    {
     "data": {
      "text/html": [
       "<div>\n",
       "<style scoped>\n",
       "    .dataframe tbody tr th:only-of-type {\n",
       "        vertical-align: middle;\n",
       "    }\n",
       "\n",
       "    .dataframe tbody tr th {\n",
       "        vertical-align: top;\n",
       "    }\n",
       "\n",
       "    .dataframe thead th {\n",
       "        text-align: right;\n",
       "    }\n",
       "</style>\n",
       "<table border=\"1\" class=\"dataframe\">\n",
       "  <thead>\n",
       "    <tr style=\"text-align: right;\">\n",
       "      <th></th>\n",
       "      <th>garage_id</th>\n",
       "      <th>card_type_id</th>\n",
       "      <th>transaction_id</th>\n",
       "      <th>start_parking_dt</th>\n",
       "      <th>end_parking_dt</th>\n",
       "      <th>pay_parking_dt</th>\n",
       "      <th>entry_station_cid</th>\n",
       "      <th>pay_station_cid</th>\n",
       "      <th>exit_station_cid</th>\n",
       "      <th>visit_datetime</th>\n",
       "      <th>visit_date</th>\n",
       "    </tr>\n",
       "  </thead>\n",
       "  <tbody>\n",
       "    <tr>\n",
       "      <th>0</th>\n",
       "      <td>36</td>\n",
       "      <td>220</td>\n",
       "      <td>2912536</td>\n",
       "      <td>1-1-2016 00:14</td>\n",
       "      <td>1-1-2016 06:17</td>\n",
       "      <td>1-1-2016 06:14</td>\n",
       "      <td>989.0</td>\n",
       "      <td>998.0</td>\n",
       "      <td>992.0</td>\n",
       "      <td>2016-01-01 00:14:00</td>\n",
       "      <td>2016-01-01</td>\n",
       "    </tr>\n",
       "    <tr>\n",
       "      <th>1</th>\n",
       "      <td>36</td>\n",
       "      <td>220</td>\n",
       "      <td>2912538</td>\n",
       "      <td>1-1-2016 00:27</td>\n",
       "      <td>1-1-2016 05:11</td>\n",
       "      <td>1-1-2016 05:09</td>\n",
       "      <td>989.0</td>\n",
       "      <td>998.0</td>\n",
       "      <td>992.0</td>\n",
       "      <td>2016-01-01 00:27:00</td>\n",
       "      <td>2016-01-01</td>\n",
       "    </tr>\n",
       "    <tr>\n",
       "      <th>2</th>\n",
       "      <td>36</td>\n",
       "      <td>220</td>\n",
       "      <td>2912537</td>\n",
       "      <td>1-1-2016 00:27</td>\n",
       "      <td>1-1-2016 05:56</td>\n",
       "      <td>1-1-2016 05:52</td>\n",
       "      <td>988.0</td>\n",
       "      <td>998.0</td>\n",
       "      <td>993.0</td>\n",
       "      <td>2016-01-01 00:27:00</td>\n",
       "      <td>2016-01-01</td>\n",
       "    </tr>\n",
       "    <tr>\n",
       "      <th>3</th>\n",
       "      <td>36</td>\n",
       "      <td>220</td>\n",
       "      <td>2912539</td>\n",
       "      <td>1-1-2016 00:28</td>\n",
       "      <td>1-1-2016 08:14</td>\n",
       "      <td>1-1-2016 08:06</td>\n",
       "      <td>989.0</td>\n",
       "      <td>998.0</td>\n",
       "      <td>992.0</td>\n",
       "      <td>2016-01-01 00:28:00</td>\n",
       "      <td>2016-01-01</td>\n",
       "    </tr>\n",
       "    <tr>\n",
       "      <th>4</th>\n",
       "      <td>36</td>\n",
       "      <td>220</td>\n",
       "      <td>2912540</td>\n",
       "      <td>1-1-2016 00:34</td>\n",
       "      <td>1-1-2016 04:09</td>\n",
       "      <td>1-1-2016 04:03</td>\n",
       "      <td>989.0</td>\n",
       "      <td>998.0</td>\n",
       "      <td>992.0</td>\n",
       "      <td>2016-01-01 00:34:00</td>\n",
       "      <td>2016-01-01</td>\n",
       "    </tr>\n",
       "  </tbody>\n",
       "</table>\n",
       "</div>"
      ],
      "text/plain": [
       "   garage_id  card_type_id  transaction_id start_parking_dt  end_parking_dt  \\\n",
       "0         36           220         2912536   1-1-2016 00:14  1-1-2016 06:17   \n",
       "1         36           220         2912538   1-1-2016 00:27  1-1-2016 05:11   \n",
       "2         36           220         2912537   1-1-2016 00:27  1-1-2016 05:56   \n",
       "3         36           220         2912539   1-1-2016 00:28  1-1-2016 08:14   \n",
       "4         36           220         2912540   1-1-2016 00:34  1-1-2016 04:09   \n",
       "\n",
       "   pay_parking_dt  entry_station_cid  pay_station_cid  exit_station_cid  \\\n",
       "0  1-1-2016 06:14              989.0            998.0             992.0   \n",
       "1  1-1-2016 05:09              989.0            998.0             992.0   \n",
       "2  1-1-2016 05:52              988.0            998.0             993.0   \n",
       "3  1-1-2016 08:06              989.0            998.0             992.0   \n",
       "4  1-1-2016 04:03              989.0            998.0             992.0   \n",
       "\n",
       "       visit_datetime  visit_date  \n",
       "0 2016-01-01 00:14:00  2016-01-01  \n",
       "1 2016-01-01 00:27:00  2016-01-01  \n",
       "2 2016-01-01 00:27:00  2016-01-01  \n",
       "3 2016-01-01 00:28:00  2016-01-01  \n",
       "4 2016-01-01 00:34:00  2016-01-01  "
      ]
     },
     "execution_count": 99,
     "metadata": {},
     "output_type": "execute_result"
    }
   ],
   "source": [
    "parking_transactions['visit_datetime'] = pd.to_datetime(parking_transactions['start_parking_dt'], format='%d-%m-%Y %H:%M')\n",
    "#'1-1-2016 00:14' \n",
    "parking_transactions['visit_date'] = parking_transactions['visit_datetime'].dt.date\n",
    "parking_transactions.head()"
   ]
  },
  {
   "cell_type": "code",
   "execution_count": 101,
   "metadata": {},
   "outputs": [
    {
     "data": {
      "text/html": [
       "<div>\n",
       "<style scoped>\n",
       "    .dataframe tbody tr th:only-of-type {\n",
       "        vertical-align: middle;\n",
       "    }\n",
       "\n",
       "    .dataframe tbody tr th {\n",
       "        vertical-align: top;\n",
       "    }\n",
       "\n",
       "    .dataframe thead th {\n",
       "        text-align: right;\n",
       "    }\n",
       "</style>\n",
       "<table border=\"1\" class=\"dataframe\">\n",
       "  <thead>\n",
       "    <tr style=\"text-align: right;\">\n",
       "      <th></th>\n",
       "      <th>garage_id</th>\n",
       "      <th>card_type_id</th>\n",
       "      <th>transaction_id</th>\n",
       "      <th>start_parking_dt</th>\n",
       "      <th>end_parking_dt</th>\n",
       "      <th>pay_parking_dt</th>\n",
       "      <th>entry_station_cid</th>\n",
       "      <th>pay_station_cid</th>\n",
       "      <th>exit_station_cid</th>\n",
       "      <th>visit_datetime</th>\n",
       "      <th>visit_date</th>\n",
       "    </tr>\n",
       "  </thead>\n",
       "  <tbody>\n",
       "    <tr>\n",
       "      <th>3380155</th>\n",
       "      <td>36</td>\n",
       "      <td>220</td>\n",
       "      <td>4536604</td>\n",
       "      <td>31-3-2018 23:50</td>\n",
       "      <td>1-4-2018 05:48</td>\n",
       "      <td>1-4-2018 05:46</td>\n",
       "      <td>989.0</td>\n",
       "      <td>998.0</td>\n",
       "      <td>992.0</td>\n",
       "      <td>2018-03-31 23:50:00</td>\n",
       "      <td>2018-03-31</td>\n",
       "    </tr>\n",
       "    <tr>\n",
       "      <th>3380156</th>\n",
       "      <td>36</td>\n",
       "      <td>220</td>\n",
       "      <td>4536605</td>\n",
       "      <td>31-3-2018 23:51</td>\n",
       "      <td>1-4-2018 03:54</td>\n",
       "      <td>1-4-2018 03:54</td>\n",
       "      <td>988.0</td>\n",
       "      <td>NaN</td>\n",
       "      <td>992.0</td>\n",
       "      <td>2018-03-31 23:51:00</td>\n",
       "      <td>2018-03-31</td>\n",
       "    </tr>\n",
       "    <tr>\n",
       "      <th>3380157</th>\n",
       "      <td>36</td>\n",
       "      <td>220</td>\n",
       "      <td>4536606</td>\n",
       "      <td>31-3-2018 23:51</td>\n",
       "      <td>1-4-2018 03:20</td>\n",
       "      <td>1-4-2018 03:18</td>\n",
       "      <td>989.0</td>\n",
       "      <td>998.0</td>\n",
       "      <td>993.0</td>\n",
       "      <td>2018-03-31 23:51:00</td>\n",
       "      <td>2018-03-31</td>\n",
       "    </tr>\n",
       "    <tr>\n",
       "      <th>3380158</th>\n",
       "      <td>36</td>\n",
       "      <td>220</td>\n",
       "      <td>4536607</td>\n",
       "      <td>31-3-2018 23:55</td>\n",
       "      <td>1-4-2018 16:33</td>\n",
       "      <td>1-4-2018 16:29</td>\n",
       "      <td>989.0</td>\n",
       "      <td>1009.0</td>\n",
       "      <td>992.0</td>\n",
       "      <td>2018-03-31 23:55:00</td>\n",
       "      <td>2018-03-31</td>\n",
       "    </tr>\n",
       "    <tr>\n",
       "      <th>3380159</th>\n",
       "      <td>36</td>\n",
       "      <td>221</td>\n",
       "      <td>4536608</td>\n",
       "      <td>31-3-2018 23:59</td>\n",
       "      <td>2-4-2018 13:06</td>\n",
       "      <td>NaN</td>\n",
       "      <td>988.0</td>\n",
       "      <td>NaN</td>\n",
       "      <td>993.0</td>\n",
       "      <td>2018-03-31 23:59:00</td>\n",
       "      <td>2018-03-31</td>\n",
       "    </tr>\n",
       "  </tbody>\n",
       "</table>\n",
       "</div>"
      ],
      "text/plain": [
       "         garage_id  card_type_id  transaction_id start_parking_dt  \\\n",
       "3380155         36           220         4536604  31-3-2018 23:50   \n",
       "3380156         36           220         4536605  31-3-2018 23:51   \n",
       "3380157         36           220         4536606  31-3-2018 23:51   \n",
       "3380158         36           220         4536607  31-3-2018 23:55   \n",
       "3380159         36           221         4536608  31-3-2018 23:59   \n",
       "\n",
       "         end_parking_dt  pay_parking_dt  entry_station_cid  pay_station_cid  \\\n",
       "3380155  1-4-2018 05:48  1-4-2018 05:46              989.0            998.0   \n",
       "3380156  1-4-2018 03:54  1-4-2018 03:54              988.0              NaN   \n",
       "3380157  1-4-2018 03:20  1-4-2018 03:18              989.0            998.0   \n",
       "3380158  1-4-2018 16:33  1-4-2018 16:29              989.0           1009.0   \n",
       "3380159  2-4-2018 13:06             NaN              988.0              NaN   \n",
       "\n",
       "         exit_station_cid      visit_datetime  visit_date  \n",
       "3380155             992.0 2018-03-31 23:50:00  2018-03-31  \n",
       "3380156             992.0 2018-03-31 23:51:00  2018-03-31  \n",
       "3380157             993.0 2018-03-31 23:51:00  2018-03-31  \n",
       "3380158             992.0 2018-03-31 23:55:00  2018-03-31  \n",
       "3380159             993.0 2018-03-31 23:59:00  2018-03-31  "
      ]
     },
     "execution_count": 101,
     "metadata": {},
     "output_type": "execute_result"
    }
   ],
   "source": [
    "parking_transactions.tail()"
   ]
  },
  {
   "cell_type": "code",
   "execution_count": 103,
   "metadata": {},
   "outputs": [
    {
     "data": {
      "text/html": [
       "<div>\n",
       "<style scoped>\n",
       "    .dataframe tbody tr th:only-of-type {\n",
       "        vertical-align: middle;\n",
       "    }\n",
       "\n",
       "    .dataframe tbody tr th {\n",
       "        vertical-align: top;\n",
       "    }\n",
       "\n",
       "    .dataframe thead th {\n",
       "        text-align: right;\n",
       "    }\n",
       "</style>\n",
       "<table border=\"1\" class=\"dataframe\">\n",
       "  <thead>\n",
       "    <tr style=\"text-align: right;\">\n",
       "      <th></th>\n",
       "      <th>garage_id</th>\n",
       "      <th>visit_date</th>\n",
       "      <th>count_transactions</th>\n",
       "    </tr>\n",
       "  </thead>\n",
       "  <tbody>\n",
       "    <tr>\n",
       "      <th>0</th>\n",
       "      <td>36</td>\n",
       "      <td>2016-01-01</td>\n",
       "      <td>328</td>\n",
       "    </tr>\n",
       "    <tr>\n",
       "      <th>1</th>\n",
       "      <td>36</td>\n",
       "      <td>2016-01-02</td>\n",
       "      <td>2740</td>\n",
       "    </tr>\n",
       "    <tr>\n",
       "      <th>2</th>\n",
       "      <td>36</td>\n",
       "      <td>2016-01-03</td>\n",
       "      <td>1201</td>\n",
       "    </tr>\n",
       "    <tr>\n",
       "      <th>3</th>\n",
       "      <td>36</td>\n",
       "      <td>2016-01-04</td>\n",
       "      <td>1263</td>\n",
       "    </tr>\n",
       "    <tr>\n",
       "      <th>4</th>\n",
       "      <td>36</td>\n",
       "      <td>2016-01-05</td>\n",
       "      <td>456</td>\n",
       "    </tr>\n",
       "  </tbody>\n",
       "</table>\n",
       "</div>"
      ],
      "text/plain": [
       "   garage_id  visit_date  count_transactions\n",
       "0         36  2016-01-01                 328\n",
       "1         36  2016-01-02                2740\n",
       "2         36  2016-01-03                1201\n",
       "3         36  2016-01-04                1263\n",
       "4         36  2016-01-05                 456"
      ]
     },
     "execution_count": 103,
     "metadata": {},
     "output_type": "execute_result"
    }
   ],
   "source": [
    "visitors_per_day = parking_transactions.groupby(['garage_id','visit_date'],as_index=False)['transaction_id'].count().rename(columns=\n",
    "                                                {'transaction_id':'count_transactions'})\n",
    "visitors_per_day.head()"
   ]
  },
  {
   "cell_type": "markdown",
   "metadata": {},
   "source": [
    "<h2>Make a selection of the data and show this</p></h2>\n",
    "* Pick a garage_id, and a time_window"
   ]
  },
  {
   "cell_type": "code",
   "execution_count": 105,
   "metadata": {},
   "outputs": [
    {
     "name": "stdout",
     "output_type": "stream",
     "text": [
      "from 2016-01-01 00:00:00 to 2016-03-01 00:00:00 aantal: 61\n"
     ]
    },
    {
     "data": {
      "text/html": [
       "<div>\n",
       "<style scoped>\n",
       "    .dataframe tbody tr th:only-of-type {\n",
       "        vertical-align: middle;\n",
       "    }\n",
       "\n",
       "    .dataframe tbody tr th {\n",
       "        vertical-align: top;\n",
       "    }\n",
       "\n",
       "    .dataframe thead th {\n",
       "        text-align: right;\n",
       "    }\n",
       "</style>\n",
       "<table border=\"1\" class=\"dataframe\">\n",
       "  <thead>\n",
       "    <tr style=\"text-align: right;\">\n",
       "      <th></th>\n",
       "      <th>garage_id</th>\n",
       "      <th>visit_date</th>\n",
       "      <th>count_transactions</th>\n",
       "      <th>visit_datetime</th>\n",
       "    </tr>\n",
       "  </thead>\n",
       "  <tbody>\n",
       "    <tr>\n",
       "      <th>0</th>\n",
       "      <td>36</td>\n",
       "      <td>2016-01-01</td>\n",
       "      <td>328</td>\n",
       "      <td>2016-01-01</td>\n",
       "    </tr>\n",
       "    <tr>\n",
       "      <th>1</th>\n",
       "      <td>36</td>\n",
       "      <td>2016-01-02</td>\n",
       "      <td>2740</td>\n",
       "      <td>2016-01-02</td>\n",
       "    </tr>\n",
       "    <tr>\n",
       "      <th>2</th>\n",
       "      <td>36</td>\n",
       "      <td>2016-01-03</td>\n",
       "      <td>1201</td>\n",
       "      <td>2016-01-03</td>\n",
       "    </tr>\n",
       "    <tr>\n",
       "      <th>3</th>\n",
       "      <td>36</td>\n",
       "      <td>2016-01-04</td>\n",
       "      <td>1263</td>\n",
       "      <td>2016-01-04</td>\n",
       "    </tr>\n",
       "    <tr>\n",
       "      <th>4</th>\n",
       "      <td>36</td>\n",
       "      <td>2016-01-05</td>\n",
       "      <td>456</td>\n",
       "      <td>2016-01-05</td>\n",
       "    </tr>\n",
       "  </tbody>\n",
       "</table>\n",
       "</div>"
      ],
      "text/plain": [
       "   garage_id  visit_date  count_transactions visit_datetime\n",
       "0         36  2016-01-01                 328     2016-01-01\n",
       "1         36  2016-01-02                2740     2016-01-02\n",
       "2         36  2016-01-03                1201     2016-01-03\n",
       "3         36  2016-01-04                1263     2016-01-04\n",
       "4         36  2016-01-05                 456     2016-01-05"
      ]
     },
     "execution_count": 105,
     "metadata": {},
     "output_type": "execute_result"
    }
   ],
   "source": [
    "from_datetime=\"2016-01-01 00:00:00\"\n",
    "to_datetime=\"2016-03-01 00:00:00\"\n",
    "garage_id=36\n",
    "# create a date_time column, and filter using a 'mask' \n",
    "visitors_per_day['visit_datetime'] = pd.to_datetime(visitors_per_day['visit_date'])\n",
    "mask = (visitors_per_day['visit_datetime']>=from_datetime) & (visitors_per_day['visit_datetime'] <= \n",
    "                                                              to_datetime) & (visitors_per_day['garage_id']==garage_id)\n",
    "# not necessary, but one is allowed to remove that superfluous column here\n",
    "#visitors_per_day=visitors_per_day.drop(['visit_datetime'], axis=1)\n",
    "selected= visitors_per_day.loc[mask]\n",
    "print(\"from\", from_datetime,\"to\",to_datetime,\"aantal:\",len(selected))\n",
    "selected.head(5)\n"
   ]
  },
  {
   "cell_type": "markdown",
   "metadata": {},
   "source": [
    "<h2>Calculate a rolling mean of visitors</h2>\n",
    " Compute the rolling mean (see https://stackoverflow.com/questions/15771472/pandas-rolling-mean-by-time-interval on how to implement a rolling mean in pandas). Choose a proper window size. \n"
   ]
  },
  {
   "cell_type": "code",
   "execution_count": 109,
   "metadata": {},
   "outputs": [
    {
     "data": {
      "text/html": [
       "<div>\n",
       "<style scoped>\n",
       "    .dataframe tbody tr th:only-of-type {\n",
       "        vertical-align: middle;\n",
       "    }\n",
       "\n",
       "    .dataframe tbody tr th {\n",
       "        vertical-align: top;\n",
       "    }\n",
       "\n",
       "    .dataframe thead th {\n",
       "        text-align: right;\n",
       "    }\n",
       "</style>\n",
       "<table border=\"1\" class=\"dataframe\">\n",
       "  <thead>\n",
       "    <tr style=\"text-align: right;\">\n",
       "      <th></th>\n",
       "      <th>garage_id</th>\n",
       "      <th>visit_date</th>\n",
       "      <th>count_transactions</th>\n",
       "      <th>visit_datetime</th>\n",
       "      <th>RollingMean</th>\n",
       "    </tr>\n",
       "  </thead>\n",
       "  <tbody>\n",
       "    <tr>\n",
       "      <th>0</th>\n",
       "      <td>36</td>\n",
       "      <td>2016-01-01</td>\n",
       "      <td>328</td>\n",
       "      <td>2016-01-01</td>\n",
       "      <td>NaN</td>\n",
       "    </tr>\n",
       "    <tr>\n",
       "      <th>1</th>\n",
       "      <td>36</td>\n",
       "      <td>2016-01-02</td>\n",
       "      <td>2740</td>\n",
       "      <td>2016-01-02</td>\n",
       "      <td>NaN</td>\n",
       "    </tr>\n",
       "    <tr>\n",
       "      <th>2</th>\n",
       "      <td>36</td>\n",
       "      <td>2016-01-03</td>\n",
       "      <td>1201</td>\n",
       "      <td>2016-01-03</td>\n",
       "      <td>NaN</td>\n",
       "    </tr>\n",
       "    <tr>\n",
       "      <th>3</th>\n",
       "      <td>36</td>\n",
       "      <td>2016-01-04</td>\n",
       "      <td>1263</td>\n",
       "      <td>2016-01-04</td>\n",
       "      <td>NaN</td>\n",
       "    </tr>\n",
       "    <tr>\n",
       "      <th>4</th>\n",
       "      <td>36</td>\n",
       "      <td>2016-01-05</td>\n",
       "      <td>456</td>\n",
       "      <td>2016-01-05</td>\n",
       "      <td>NaN</td>\n",
       "    </tr>\n",
       "    <tr>\n",
       "      <th>5</th>\n",
       "      <td>36</td>\n",
       "      <td>2016-01-06</td>\n",
       "      <td>521</td>\n",
       "      <td>2016-01-06</td>\n",
       "      <td>NaN</td>\n",
       "    </tr>\n",
       "    <tr>\n",
       "      <th>6</th>\n",
       "      <td>36</td>\n",
       "      <td>2016-01-07</td>\n",
       "      <td>1214</td>\n",
       "      <td>2016-01-07</td>\n",
       "      <td>1103.285714</td>\n",
       "    </tr>\n",
       "    <tr>\n",
       "      <th>7</th>\n",
       "      <td>36</td>\n",
       "      <td>2016-01-08</td>\n",
       "      <td>2768</td>\n",
       "      <td>2016-01-08</td>\n",
       "      <td>1451.857143</td>\n",
       "    </tr>\n",
       "    <tr>\n",
       "      <th>8</th>\n",
       "      <td>36</td>\n",
       "      <td>2016-01-09</td>\n",
       "      <td>2740</td>\n",
       "      <td>2016-01-09</td>\n",
       "      <td>1451.857143</td>\n",
       "    </tr>\n",
       "  </tbody>\n",
       "</table>\n",
       "</div>"
      ],
      "text/plain": [
       "   garage_id  visit_date  count_transactions visit_datetime  RollingMean\n",
       "0         36  2016-01-01                 328     2016-01-01          NaN\n",
       "1         36  2016-01-02                2740     2016-01-02          NaN\n",
       "2         36  2016-01-03                1201     2016-01-03          NaN\n",
       "3         36  2016-01-04                1263     2016-01-04          NaN\n",
       "4         36  2016-01-05                 456     2016-01-05          NaN\n",
       "5         36  2016-01-06                 521     2016-01-06          NaN\n",
       "6         36  2016-01-07                1214     2016-01-07  1103.285714\n",
       "7         36  2016-01-08                2768     2016-01-08  1451.857143\n",
       "8         36  2016-01-09                2740     2016-01-09  1451.857143"
      ]
     },
     "execution_count": 109,
     "metadata": {},
     "output_type": "execute_result"
    }
   ],
   "source": [
    "with_rolling_mean=selected.copy()\n",
    "with_rolling_mean['RollingMean']=with_rolling_mean['count_transactions'].rolling(window=7).mean()\n",
    "with_rolling_mean.head(9)\n"
   ]
  },
  {
   "cell_type": "markdown",
   "metadata": {},
   "source": [
    "Show the number of visits in a graph\n",
    "Plot the total amount of visitors on a given day in a plot. Add the rolling mean to the same plot. "
   ]
  },
  {
   "cell_type": "code",
   "execution_count": 18,
   "metadata": {},
   "outputs": [
    {
     "data": {
      "text/plain": [
       "Text(0.5,1,'# visits per day')"
      ]
     },
     "execution_count": 18,
     "metadata": {},
     "output_type": "execute_result"
    },
    {
     "data": {
      "image/png": "[encoded data removed]",
      "text/plain": [
       "<matplotlib.figure.Figure at 0x19419b8c080>"
      ]
     },
     "metadata": {},
     "output_type": "display_data"
    }
   ],
   "source": [
    "import matplotlib.pyplot as plt\n",
    "%matplotlib inline\n",
    "fig = plt.figure(figsize=(16, 4)) \n",
    "plt.plot(with_rolling_mean['count_transactions'])\n",
    "plt.plot(with_rolling_mean['RollingMean'])\n",
    "plt.title(\"# visits per day\")"
   ]
  },
  {
   "cell_type": "markdown",
   "metadata": {},
   "source": [
    "## Analyse op transaction ID"
   ]
  },
  {
   "cell_type": "markdown",
   "metadata": {},
   "source": [
    "Hier laten we zien dat er geen informatie uit transaction_id te halen valt."
   ]
  },
  {
   "cell_type": "code",
   "execution_count": 125,
   "metadata": {},
   "outputs": [
    {
     "name": "stdout",
     "output_type": "stream",
     "text": [
      "Aantal unieke transaction_id's:  91497\n",
      "Aantal regels in parking_abbo40:  91497\n"
     ]
    }
   ],
   "source": [
    "# we maken 1 dataset met alle transacties uit abonnementen (card_type_id = 221), en tellen de unieke transaction_id's\n",
    "parking_abbo40 = parking_transactions.loc[np.logical_and(parking_transactions.card_type_id == 221,parking_transactions.garage_id == 40)]\n",
    "unique_abbo40 = set()\n",
    "for ID in parking_abbo40.transaction_id:\n",
    "    unique_abbo40.add(ID)\n",
    "print(\"Aantal unieke transaction_id's: \", len(unique_abbo40))\n",
    "print(\"Aantal regels in parking_abbo40: \", len(parking_abbo40))"
   ]
  },
  {
   "cell_type": "markdown",
   "metadata": {},
   "source": [
    "Deze waarden zijn hetzelfde. We doen nu hetzelfde bij de losse parkeerkaarten:"
   ]
  },
  {
   "cell_type": "code",
   "execution_count": 126,
   "metadata": {},
   "outputs": [
    {
     "name": "stdout",
     "output_type": "stream",
     "text": [
      "Aantal unieke transaction_id's:  49143\n",
      "Aantal regels in parking_los40:  49143\n"
     ]
    }
   ],
   "source": [
    "parking_los40 = parking_transactions.loc[np.logical_and(parking_transactions.card_type_id == 220,parking_transactions.garage_id == 40)]\n",
    "unique_los40 = set()\n",
    "for ID in parking_los40.transaction_id:\n",
    "    unique_los40.add(ID)\n",
    "print(\"Aantal unieke transaction_id's: \", len(unique_los40))\n",
    "print(\"Aantal regels in parking_los40: \", len(parking_los40))"
   ]
  },
  {
   "cell_type": "markdown",
   "metadata": {},
   "source": [
    "We nemen aan dat dit voor alle parkeergarages geldt. In de volledige dataset zitten wel transaction_id's die vaker voorkomen, maar ik denk dat die id's niet uit dezelfde parkeergarage komen."
   ]
  },
  {
   "cell_type": "markdown",
   "metadata": {},
   "source": [
    "## Verschillen tussen card_type_id = {220,221} (kort parkeren en abonnement)"
   ]
  },
  {
   "cell_type": "code",
   "execution_count": 127,
   "metadata": {},
   "outputs": [
    {
     "data": {
      "text/html": [
       "<div>\n",
       "<style scoped>\n",
       "    .dataframe tbody tr th:only-of-type {\n",
       "        vertical-align: middle;\n",
       "    }\n",
       "\n",
       "    .dataframe tbody tr th {\n",
       "        vertical-align: top;\n",
       "    }\n",
       "\n",
       "    .dataframe thead th {\n",
       "        text-align: right;\n",
       "    }\n",
       "</style>\n",
       "<table border=\"1\" class=\"dataframe\">\n",
       "  <thead>\n",
       "    <tr style=\"text-align: right;\">\n",
       "      <th></th>\n",
       "      <th>garage_id</th>\n",
       "      <th>visit_date</th>\n",
       "      <th>card_type_id</th>\n",
       "      <th>count_transactions</th>\n",
       "    </tr>\n",
       "  </thead>\n",
       "  <tbody>\n",
       "    <tr>\n",
       "      <th>0</th>\n",
       "      <td>36</td>\n",
       "      <td>2016-01-01</td>\n",
       "      <td>220</td>\n",
       "      <td>299</td>\n",
       "    </tr>\n",
       "    <tr>\n",
       "      <th>1</th>\n",
       "      <td>36</td>\n",
       "      <td>2016-01-01</td>\n",
       "      <td>221</td>\n",
       "      <td>29</td>\n",
       "    </tr>\n",
       "    <tr>\n",
       "      <th>2</th>\n",
       "      <td>36</td>\n",
       "      <td>2016-01-02</td>\n",
       "      <td>220</td>\n",
       "      <td>2686</td>\n",
       "    </tr>\n",
       "    <tr>\n",
       "      <th>3</th>\n",
       "      <td>36</td>\n",
       "      <td>2016-01-02</td>\n",
       "      <td>221</td>\n",
       "      <td>54</td>\n",
       "    </tr>\n",
       "    <tr>\n",
       "      <th>4</th>\n",
       "      <td>36</td>\n",
       "      <td>2016-01-03</td>\n",
       "      <td>220</td>\n",
       "      <td>1143</td>\n",
       "    </tr>\n",
       "    <tr>\n",
       "      <th>5</th>\n",
       "      <td>36</td>\n",
       "      <td>2016-01-03</td>\n",
       "      <td>221</td>\n",
       "      <td>58</td>\n",
       "    </tr>\n",
       "    <tr>\n",
       "      <th>6</th>\n",
       "      <td>36</td>\n",
       "      <td>2016-01-04</td>\n",
       "      <td>220</td>\n",
       "      <td>1162</td>\n",
       "    </tr>\n",
       "    <tr>\n",
       "      <th>7</th>\n",
       "      <td>36</td>\n",
       "      <td>2016-01-04</td>\n",
       "      <td>221</td>\n",
       "      <td>101</td>\n",
       "    </tr>\n",
       "    <tr>\n",
       "      <th>8</th>\n",
       "      <td>36</td>\n",
       "      <td>2016-01-05</td>\n",
       "      <td>220</td>\n",
       "      <td>377</td>\n",
       "    </tr>\n",
       "    <tr>\n",
       "      <th>9</th>\n",
       "      <td>36</td>\n",
       "      <td>2016-01-05</td>\n",
       "      <td>221</td>\n",
       "      <td>79</td>\n",
       "    </tr>\n",
       "  </tbody>\n",
       "</table>\n",
       "</div>"
      ],
      "text/plain": [
       "   garage_id  visit_date  card_type_id  count_transactions\n",
       "0         36  2016-01-01           220                 299\n",
       "1         36  2016-01-01           221                  29\n",
       "2         36  2016-01-02           220                2686\n",
       "3         36  2016-01-02           221                  54\n",
       "4         36  2016-01-03           220                1143\n",
       "5         36  2016-01-03           221                  58\n",
       "6         36  2016-01-04           220                1162\n",
       "7         36  2016-01-04           221                 101\n",
       "8         36  2016-01-05           220                 377\n",
       "9         36  2016-01-05           221                  79"
      ]
     },
     "execution_count": 127,
     "metadata": {},
     "output_type": "execute_result"
    }
   ],
   "source": [
    "visitors_per_day2 = parking_transactions.groupby(['garage_id','visit_date', 'card_type_id'],as_index=False)['transaction_id'].count().rename(columns={'transaction_id':'count_transactions'})\n",
    "visitors_per_day2.head(10)"
   ]
  },
  {
   "cell_type": "code",
   "execution_count": 138,
   "metadata": {},
   "outputs": [
    {
     "name": "stdout",
     "output_type": "stream",
     "text": [
      "from 2016-01-01 00:00:00 to 2016-03-01 00:00:00 aantal: 60\n",
      "from 2016-01-01 00:00:00 to 2016-03-01 00:00:00 aantal: 60\n"
     ]
    },
    {
     "data": {
      "text/html": [
       "<div>\n",
       "<style scoped>\n",
       "    .dataframe tbody tr th:only-of-type {\n",
       "        vertical-align: middle;\n",
       "    }\n",
       "\n",
       "    .dataframe tbody tr th {\n",
       "        vertical-align: top;\n",
       "    }\n",
       "\n",
       "    .dataframe thead th {\n",
       "        text-align: right;\n",
       "    }\n",
       "</style>\n",
       "<table border=\"1\" class=\"dataframe\">\n",
       "  <thead>\n",
       "    <tr style=\"text-align: right;\">\n",
       "      <th></th>\n",
       "      <th>index</th>\n",
       "      <th>garage_id</th>\n",
       "      <th>visit_date</th>\n",
       "      <th>card_type_id</th>\n",
       "      <th>count_transactions</th>\n",
       "      <th>visit_datetime</th>\n",
       "    </tr>\n",
       "  </thead>\n",
       "  <tbody>\n",
       "    <tr>\n",
       "      <th>0</th>\n",
       "      <td>1</td>\n",
       "      <td>36</td>\n",
       "      <td>2016-01-01</td>\n",
       "      <td>221</td>\n",
       "      <td>29</td>\n",
       "      <td>2016-01-01</td>\n",
       "    </tr>\n",
       "    <tr>\n",
       "      <th>1</th>\n",
       "      <td>3</td>\n",
       "      <td>36</td>\n",
       "      <td>2016-01-02</td>\n",
       "      <td>221</td>\n",
       "      <td>54</td>\n",
       "      <td>2016-01-02</td>\n",
       "    </tr>\n",
       "    <tr>\n",
       "      <th>2</th>\n",
       "      <td>5</td>\n",
       "      <td>36</td>\n",
       "      <td>2016-01-03</td>\n",
       "      <td>221</td>\n",
       "      <td>58</td>\n",
       "      <td>2016-01-03</td>\n",
       "    </tr>\n",
       "    <tr>\n",
       "      <th>3</th>\n",
       "      <td>7</td>\n",
       "      <td>36</td>\n",
       "      <td>2016-01-04</td>\n",
       "      <td>221</td>\n",
       "      <td>101</td>\n",
       "      <td>2016-01-04</td>\n",
       "    </tr>\n",
       "    <tr>\n",
       "      <th>4</th>\n",
       "      <td>9</td>\n",
       "      <td>36</td>\n",
       "      <td>2016-01-05</td>\n",
       "      <td>221</td>\n",
       "      <td>79</td>\n",
       "      <td>2016-01-05</td>\n",
       "    </tr>\n",
       "  </tbody>\n",
       "</table>\n",
       "</div>"
      ],
      "text/plain": [
       "   index  garage_id  visit_date  card_type_id  count_transactions  \\\n",
       "0      1         36  2016-01-01           221                  29   \n",
       "1      3         36  2016-01-02           221                  54   \n",
       "2      5         36  2016-01-03           221                  58   \n",
       "3      7         36  2016-01-04           221                 101   \n",
       "4      9         36  2016-01-05           221                  79   \n",
       "\n",
       "  visit_datetime  \n",
       "0     2016-01-01  \n",
       "1     2016-01-02  \n",
       "2     2016-01-03  \n",
       "3     2016-01-04  \n",
       "4     2016-01-05  "
      ]
     },
     "execution_count": 138,
     "metadata": {},
     "output_type": "execute_result"
    }
   ],
   "source": [
    "from_datetime=\"2016-01-01 00:00:00\"\n",
    "to_datetime=\"2016-03-01 00:00:00\"\n",
    "garage_id=36\n",
    "card_type_id = 220\n",
    "\n",
    "visitors_per_day2['visit_datetime'] = pd.to_datetime(visitors_per_day2['visit_date'])\n",
    "mask = (visitors_per_day2['visit_datetime']>=from_datetime) & (visitors_per_day2['visit_datetime'] < \n",
    "       to_datetime) & (visitors_per_day2['garage_id']==garage_id)\n",
    "selected220= visitors_per_day2.loc[mask & (visitors_per_day2['card_type_id'] == card_type_id)]\n",
    "selected221= visitors_per_day2.loc[mask & (visitors_per_day2['card_type_id'] == 221)]\n",
    "#fix the indices\n",
    "selected220 = selected220.reset_index()\n",
    "selected221 = selected221.reset_index()\n",
    "\n",
    "print(\"from\", from_datetime,\"to\",to_datetime,\"aantal:\",len(selected220))\n",
    "selected220.head(5)\n",
    "print(\"from\", from_datetime,\"to\",to_datetime,\"aantal:\",len(selected221))\n",
    "selected221.head(5)"
   ]
  },
  {
   "cell_type": "markdown",
   "metadata": {},
   "source": [
    "Voeg dag van de week toe. 1 januari 2016 is een vrijdag."
   ]
  },
  {
   "cell_type": "code",
   "execution_count": 145,
   "metadata": {},
   "outputs": [
    {
     "name": "stderr",
     "output_type": "stream",
     "text": [
      "C:\\Users\\verho534\\AppData\\Local\\Continuum\\anaconda3\\lib\\site-packages\\ipykernel_launcher.py:6: SettingWithCopyWarning: \n",
      "A value is trying to be set on a copy of a slice from a DataFrame\n",
      "\n",
      "See the caveats in the documentation: http://pandas.pydata.org/pandas-docs/stable/indexing.html#indexing-view-versus-copy\n",
      "  \n"
     ]
    },
    {
     "data": {
      "text/html": [
       "<div>\n",
       "<style scoped>\n",
       "    .dataframe tbody tr th:only-of-type {\n",
       "        vertical-align: middle;\n",
       "    }\n",
       "\n",
       "    .dataframe tbody tr th {\n",
       "        vertical-align: top;\n",
       "    }\n",
       "\n",
       "    .dataframe thead th {\n",
       "        text-align: right;\n",
       "    }\n",
       "</style>\n",
       "<table border=\"1\" class=\"dataframe\">\n",
       "  <thead>\n",
       "    <tr style=\"text-align: right;\">\n",
       "      <th></th>\n",
       "      <th>index</th>\n",
       "      <th>garage_id</th>\n",
       "      <th>visit_date</th>\n",
       "      <th>card_type_id</th>\n",
       "      <th>count_transactions</th>\n",
       "      <th>visit_datetime</th>\n",
       "      <th>day_of_week</th>\n",
       "    </tr>\n",
       "  </thead>\n",
       "  <tbody>\n",
       "    <tr>\n",
       "      <th>0</th>\n",
       "      <td>0</td>\n",
       "      <td>36</td>\n",
       "      <td>2016-01-01</td>\n",
       "      <td>220</td>\n",
       "      <td>299</td>\n",
       "      <td>2016-01-01</td>\n",
       "      <td>Fri</td>\n",
       "    </tr>\n",
       "    <tr>\n",
       "      <th>1</th>\n",
       "      <td>2</td>\n",
       "      <td>36</td>\n",
       "      <td>2016-01-02</td>\n",
       "      <td>220</td>\n",
       "      <td>2686</td>\n",
       "      <td>2016-01-02</td>\n",
       "      <td>Sat</td>\n",
       "    </tr>\n",
       "    <tr>\n",
       "      <th>2</th>\n",
       "      <td>4</td>\n",
       "      <td>36</td>\n",
       "      <td>2016-01-03</td>\n",
       "      <td>220</td>\n",
       "      <td>1143</td>\n",
       "      <td>2016-01-03</td>\n",
       "      <td>Sun</td>\n",
       "    </tr>\n",
       "    <tr>\n",
       "      <th>3</th>\n",
       "      <td>6</td>\n",
       "      <td>36</td>\n",
       "      <td>2016-01-04</td>\n",
       "      <td>220</td>\n",
       "      <td>1162</td>\n",
       "      <td>2016-01-04</td>\n",
       "      <td>Mon</td>\n",
       "    </tr>\n",
       "    <tr>\n",
       "      <th>4</th>\n",
       "      <td>8</td>\n",
       "      <td>36</td>\n",
       "      <td>2016-01-05</td>\n",
       "      <td>220</td>\n",
       "      <td>377</td>\n",
       "      <td>2016-01-05</td>\n",
       "      <td>Tue</td>\n",
       "    </tr>\n",
       "  </tbody>\n",
       "</table>\n",
       "</div>"
      ],
      "text/plain": [
       "   index  garage_id  visit_date  card_type_id  count_transactions  \\\n",
       "0      0         36  2016-01-01           220                 299   \n",
       "1      2         36  2016-01-02           220                2686   \n",
       "2      4         36  2016-01-03           220                1143   \n",
       "3      6         36  2016-01-04           220                1162   \n",
       "4      8         36  2016-01-05           220                 377   \n",
       "\n",
       "  visit_datetime day_of_week  \n",
       "0     2016-01-01         Fri  \n",
       "1     2016-01-02         Sat  \n",
       "2     2016-01-03         Sun  \n",
       "3     2016-01-04         Mon  \n",
       "4     2016-01-05         Tue  "
      ]
     },
     "execution_count": 145,
     "metadata": {},
     "output_type": "execute_result"
    }
   ],
   "source": [
    "days = ['Fri', 'Sat', 'Sun', 'Mon', 'Tue', 'Wed', 'Thu']\n",
    "#days_partial = days[:len(selected220)%7]\n",
    "#days_partial\n",
    "selected220['day_of_week'] = ''\n",
    "for i in range(len(selected220)):\n",
    "    selected220['day_of_week'][i] = days[i%7]\n",
    "#np.repeat([days, days_partial], [len(selected220)/7,1], axis = 0)\n",
    "selected220.head()"
   ]
  },
  {
   "cell_type": "code",
   "execution_count": 148,
   "metadata": {},
   "outputs": [
    {
     "ename": "AttributeError",
     "evalue": "'Figure' object has no attribute 'set_xticklabels'",
     "output_type": "error",
     "traceback": [
      "\u001b[1;31m---------------------------------------------------------------------------\u001b[0m",
      "\u001b[1;31mAttributeError\u001b[0m                            Traceback (most recent call last)",
      "\u001b[1;32m<ipython-input-148-3f2f2dfea1fb>\u001b[0m in \u001b[0;36m<module>\u001b[1;34m()\u001b[0m\n\u001b[0;32m      9\u001b[0m \u001b[0max1\u001b[0m\u001b[1;33m.\u001b[0m\u001b[0mplot\u001b[0m\u001b[1;33m(\u001b[0m\u001b[0mselected220\u001b[0m\u001b[1;33m[\u001b[0m\u001b[1;34m'count_transactions'\u001b[0m\u001b[1;33m]\u001b[0m\u001b[1;33m,\u001b[0m\u001b[0mcolor\u001b[0m\u001b[1;33m=\u001b[0m\u001b[0mcolor\u001b[0m\u001b[1;33m)\u001b[0m\u001b[1;33m\u001b[0m\u001b[0m\n\u001b[0;32m     10\u001b[0m \u001b[0max1\u001b[0m\u001b[1;33m.\u001b[0m\u001b[0mtick_params\u001b[0m\u001b[1;33m(\u001b[0m\u001b[0maxis\u001b[0m\u001b[1;33m=\u001b[0m\u001b[1;34m'y'\u001b[0m\u001b[1;33m,\u001b[0m \u001b[0mlabelcolor\u001b[0m\u001b[1;33m=\u001b[0m\u001b[0mcolor\u001b[0m\u001b[1;33m)\u001b[0m\u001b[1;33m\u001b[0m\u001b[0m\n\u001b[1;32m---> 11\u001b[1;33m \u001b[0mfig\u001b[0m\u001b[1;33m.\u001b[0m\u001b[0mset_xticklabels\u001b[0m\u001b[1;33m(\u001b[0m\u001b[0mselected\u001b[0m\u001b[1;33m[\u001b[0m\u001b[1;34m'days_of_week'\u001b[0m\u001b[1;33m]\u001b[0m\u001b[1;33m,\u001b[0m \u001b[0mrotation\u001b[0m\u001b[1;33m=\u001b[0m\u001b[1;36m0\u001b[0m\u001b[1;33m)\u001b[0m\u001b[1;33m\u001b[0m\u001b[0m\n\u001b[0m\u001b[0;32m     12\u001b[0m \u001b[1;33m\u001b[0m\u001b[0m\n\u001b[0;32m     13\u001b[0m \u001b[0max2\u001b[0m \u001b[1;33m=\u001b[0m \u001b[0max1\u001b[0m\u001b[1;33m.\u001b[0m\u001b[0mtwinx\u001b[0m\u001b[1;33m(\u001b[0m\u001b[1;33m)\u001b[0m  \u001b[1;31m# instantiate a second axes that shares the same x-axis\u001b[0m\u001b[1;33m\u001b[0m\u001b[0m\n",
      "\u001b[1;31mAttributeError\u001b[0m: 'Figure' object has no attribute 'set_xticklabels'"
     ]
    },
    {
     "data": {
      "image/png": "[encoded data removed]",
      "text/plain": [
       "<matplotlib.figure.Figure at 0x22f9613b9b0>"
      ]
     },
     "metadata": {},
     "output_type": "display_data"
    }
   ],
   "source": [
    "import matplotlib.pyplot as plt\n",
    "%matplotlib inline\n",
    "\n",
    "fig, ax1 = plt.subplots()\n",
    "\n",
    "color = 'tab:red'\n",
    "ax1.set_xlabel('Days')\n",
    "ax1.set_ylabel('No. Visits Abonnement', color=color)\n",
    "ax1.plot(selected220['count_transactions'],color=color)\n",
    "ax1.tick_params(axis='y', labelcolor=color)\n",
    "fig.set_xticklabels(selected['days_of_week'], rotation=0)\n",
    "\n",
    "ax2 = ax1.twinx()  # instantiate a second axes that shares the same x-axis\n",
    "\n",
    "color = 'tab:blue'\n",
    "ax2.set_ylabel('No. Visits Kort Parkeren', color=color)  # we already handled the x-label with ax1\n",
    "ax2.plot(selected221['count_transactions'], color=color)\n",
    "ax2.tick_params(axis='y', labelcolor=color)\n",
    "\n",
    "fig.tight_layout()  # otherwise the right y-label is slightly clipped\n",
    "plt.show()"
   ]
  },
  {
   "cell_type": "markdown",
   "metadata": {},
   "source": [
    "Je ziet dat de abonnementshouders 1 piek per week veroorzaken, en de mensen die kort parkeren verhoorzaken 2 pieken per week, waarvan 1 gelijkloopt met de piek van de abonnementshouders. Ik wil graag zien op welke dagen deze pieken zijn.\n",
    "\n",
    "De dagen kloppen niet want dit is gebaseerd op index. Die staan nu niet goed!\n"
   ]
  },
  {
   "cell_type": "code",
   "execution_count": null,
   "metadata": {},
   "outputs": [],
   "source": []
  }
 ],
 "metadata": {
  "kernelspec": {
   "display_name": "Python 3",
   "language": "python",
   "name": "python3"
  },
  "language_info": {
   "codemirror_mode": {
    "name": "ipython",
    "version": 3
   },
   "file_extension": ".py",
   "mimetype": "text/x-python",
   "name": "python",
   "nbconvert_exporter": "python",
   "pygments_lexer": "ipython3",
   "version": "3.6.4"
  }
 },
 "nbformat": 4,
 "nbformat_minor": 1
}
